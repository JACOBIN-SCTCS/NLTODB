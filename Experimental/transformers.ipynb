{
  "nbformat": 4,
  "nbformat_minor": 0,
  "metadata": {
    "colab": {
      "name": "transformers.ipynb",
      "provenance": []
    },
    "kernelspec": {
      "name": "python3",
      "display_name": "Python 3"
    },
    "widgets": {
      "application/vnd.jupyter.widget-state+json": {
        "e4635e15310b4cca892d63074d9d6c0f": {
          "model_module": "@jupyter-widgets/controls",
          "model_name": "HBoxModel",
          "state": {
            "_view_name": "HBoxView",
            "_dom_classes": [],
            "_model_name": "HBoxModel",
            "_view_module": "@jupyter-widgets/controls",
            "_model_module_version": "1.5.0",
            "_view_count": null,
            "_view_module_version": "1.5.0",
            "box_style": "",
            "layout": "IPY_MODEL_2de80a55f1824bd2a9a338407352d1eb",
            "_model_module": "@jupyter-widgets/controls",
            "children": [
              "IPY_MODEL_7e3d3c46f34a4c729f0ee01dcf493be9",
              "IPY_MODEL_15e585d0860d4b3f952e83421ff1a9d5"
            ]
          }
        },
        "2de80a55f1824bd2a9a338407352d1eb": {
          "model_module": "@jupyter-widgets/base",
          "model_name": "LayoutModel",
          "state": {
            "_view_name": "LayoutView",
            "grid_template_rows": null,
            "right": null,
            "justify_content": null,
            "_view_module": "@jupyter-widgets/base",
            "overflow": null,
            "_model_module_version": "1.2.0",
            "_view_count": null,
            "flex_flow": null,
            "width": null,
            "min_width": null,
            "border": null,
            "align_items": null,
            "bottom": null,
            "_model_module": "@jupyter-widgets/base",
            "top": null,
            "grid_column": null,
            "overflow_y": null,
            "overflow_x": null,
            "grid_auto_flow": null,
            "grid_area": null,
            "grid_template_columns": null,
            "flex": null,
            "_model_name": "LayoutModel",
            "justify_items": null,
            "grid_row": null,
            "max_height": null,
            "align_content": null,
            "visibility": null,
            "align_self": null,
            "height": null,
            "min_height": null,
            "padding": null,
            "grid_auto_rows": null,
            "grid_gap": null,
            "max_width": null,
            "order": null,
            "_view_module_version": "1.2.0",
            "grid_template_areas": null,
            "object_position": null,
            "object_fit": null,
            "grid_auto_columns": null,
            "margin": null,
            "display": null,
            "left": null
          }
        },
        "7e3d3c46f34a4c729f0ee01dcf493be9": {
          "model_module": "@jupyter-widgets/controls",
          "model_name": "IntProgressModel",
          "state": {
            "_view_name": "ProgressView",
            "style": "IPY_MODEL_51137b71bfee47ccb8daf41332dd92a4",
            "_dom_classes": [],
            "description": "Downloading: 100%",
            "_model_name": "IntProgressModel",
            "bar_style": "success",
            "max": 231508,
            "_view_module": "@jupyter-widgets/controls",
            "_model_module_version": "1.5.0",
            "value": 231508,
            "_view_count": null,
            "_view_module_version": "1.5.0",
            "orientation": "horizontal",
            "min": 0,
            "description_tooltip": null,
            "_model_module": "@jupyter-widgets/controls",
            "layout": "IPY_MODEL_93b2850662d84a1289bcea882f6d251b"
          }
        },
        "15e585d0860d4b3f952e83421ff1a9d5": {
          "model_module": "@jupyter-widgets/controls",
          "model_name": "HTMLModel",
          "state": {
            "_view_name": "HTMLView",
            "style": "IPY_MODEL_4b724ac0142b4cc99afa057a886007da",
            "_dom_classes": [],
            "description": "",
            "_model_name": "HTMLModel",
            "placeholder": "​",
            "_view_module": "@jupyter-widgets/controls",
            "_model_module_version": "1.5.0",
            "value": " 232k/232k [00:00&lt;00:00, 1.91MB/s]",
            "_view_count": null,
            "_view_module_version": "1.5.0",
            "description_tooltip": null,
            "_model_module": "@jupyter-widgets/controls",
            "layout": "IPY_MODEL_277f046d05914dc4908f61e28eafcce9"
          }
        },
        "51137b71bfee47ccb8daf41332dd92a4": {
          "model_module": "@jupyter-widgets/controls",
          "model_name": "ProgressStyleModel",
          "state": {
            "_view_name": "StyleView",
            "_model_name": "ProgressStyleModel",
            "description_width": "initial",
            "_view_module": "@jupyter-widgets/base",
            "_model_module_version": "1.5.0",
            "_view_count": null,
            "_view_module_version": "1.2.0",
            "bar_color": null,
            "_model_module": "@jupyter-widgets/controls"
          }
        },
        "93b2850662d84a1289bcea882f6d251b": {
          "model_module": "@jupyter-widgets/base",
          "model_name": "LayoutModel",
          "state": {
            "_view_name": "LayoutView",
            "grid_template_rows": null,
            "right": null,
            "justify_content": null,
            "_view_module": "@jupyter-widgets/base",
            "overflow": null,
            "_model_module_version": "1.2.0",
            "_view_count": null,
            "flex_flow": null,
            "width": null,
            "min_width": null,
            "border": null,
            "align_items": null,
            "bottom": null,
            "_model_module": "@jupyter-widgets/base",
            "top": null,
            "grid_column": null,
            "overflow_y": null,
            "overflow_x": null,
            "grid_auto_flow": null,
            "grid_area": null,
            "grid_template_columns": null,
            "flex": null,
            "_model_name": "LayoutModel",
            "justify_items": null,
            "grid_row": null,
            "max_height": null,
            "align_content": null,
            "visibility": null,
            "align_self": null,
            "height": null,
            "min_height": null,
            "padding": null,
            "grid_auto_rows": null,
            "grid_gap": null,
            "max_width": null,
            "order": null,
            "_view_module_version": "1.2.0",
            "grid_template_areas": null,
            "object_position": null,
            "object_fit": null,
            "grid_auto_columns": null,
            "margin": null,
            "display": null,
            "left": null
          }
        },
        "4b724ac0142b4cc99afa057a886007da": {
          "model_module": "@jupyter-widgets/controls",
          "model_name": "DescriptionStyleModel",
          "state": {
            "_view_name": "StyleView",
            "_model_name": "DescriptionStyleModel",
            "description_width": "",
            "_view_module": "@jupyter-widgets/base",
            "_model_module_version": "1.5.0",
            "_view_count": null,
            "_view_module_version": "1.2.0",
            "_model_module": "@jupyter-widgets/controls"
          }
        },
        "277f046d05914dc4908f61e28eafcce9": {
          "model_module": "@jupyter-widgets/base",
          "model_name": "LayoutModel",
          "state": {
            "_view_name": "LayoutView",
            "grid_template_rows": null,
            "right": null,
            "justify_content": null,
            "_view_module": "@jupyter-widgets/base",
            "overflow": null,
            "_model_module_version": "1.2.0",
            "_view_count": null,
            "flex_flow": null,
            "width": null,
            "min_width": null,
            "border": null,
            "align_items": null,
            "bottom": null,
            "_model_module": "@jupyter-widgets/base",
            "top": null,
            "grid_column": null,
            "overflow_y": null,
            "overflow_x": null,
            "grid_auto_flow": null,
            "grid_area": null,
            "grid_template_columns": null,
            "flex": null,
            "_model_name": "LayoutModel",
            "justify_items": null,
            "grid_row": null,
            "max_height": null,
            "align_content": null,
            "visibility": null,
            "align_self": null,
            "height": null,
            "min_height": null,
            "padding": null,
            "grid_auto_rows": null,
            "grid_gap": null,
            "max_width": null,
            "order": null,
            "_view_module_version": "1.2.0",
            "grid_template_areas": null,
            "object_position": null,
            "object_fit": null,
            "grid_auto_columns": null,
            "margin": null,
            "display": null,
            "left": null
          }
        },
        "cdef7f4261984ecb9e2d7f34cec89fea": {
          "model_module": "@jupyter-widgets/controls",
          "model_name": "HBoxModel",
          "state": {
            "_view_name": "HBoxView",
            "_dom_classes": [],
            "_model_name": "HBoxModel",
            "_view_module": "@jupyter-widgets/controls",
            "_model_module_version": "1.5.0",
            "_view_count": null,
            "_view_module_version": "1.5.0",
            "box_style": "",
            "layout": "IPY_MODEL_1df173ce11314ff78c4627b6c7d36654",
            "_model_module": "@jupyter-widgets/controls",
            "children": [
              "IPY_MODEL_b552558637f744988294be9b8a5febf2",
              "IPY_MODEL_7b53537f0adb4cae899febc6d54b3a45"
            ]
          }
        },
        "1df173ce11314ff78c4627b6c7d36654": {
          "model_module": "@jupyter-widgets/base",
          "model_name": "LayoutModel",
          "state": {
            "_view_name": "LayoutView",
            "grid_template_rows": null,
            "right": null,
            "justify_content": null,
            "_view_module": "@jupyter-widgets/base",
            "overflow": null,
            "_model_module_version": "1.2.0",
            "_view_count": null,
            "flex_flow": null,
            "width": null,
            "min_width": null,
            "border": null,
            "align_items": null,
            "bottom": null,
            "_model_module": "@jupyter-widgets/base",
            "top": null,
            "grid_column": null,
            "overflow_y": null,
            "overflow_x": null,
            "grid_auto_flow": null,
            "grid_area": null,
            "grid_template_columns": null,
            "flex": null,
            "_model_name": "LayoutModel",
            "justify_items": null,
            "grid_row": null,
            "max_height": null,
            "align_content": null,
            "visibility": null,
            "align_self": null,
            "height": null,
            "min_height": null,
            "padding": null,
            "grid_auto_rows": null,
            "grid_gap": null,
            "max_width": null,
            "order": null,
            "_view_module_version": "1.2.0",
            "grid_template_areas": null,
            "object_position": null,
            "object_fit": null,
            "grid_auto_columns": null,
            "margin": null,
            "display": null,
            "left": null
          }
        },
        "b552558637f744988294be9b8a5febf2": {
          "model_module": "@jupyter-widgets/controls",
          "model_name": "IntProgressModel",
          "state": {
            "_view_name": "ProgressView",
            "style": "IPY_MODEL_4e7732608a60424fa2136243a65fbafb",
            "_dom_classes": [],
            "description": "Downloading: 100%",
            "_model_name": "IntProgressModel",
            "bar_style": "success",
            "max": 361,
            "_view_module": "@jupyter-widgets/controls",
            "_model_module_version": "1.5.0",
            "value": 361,
            "_view_count": null,
            "_view_module_version": "1.5.0",
            "orientation": "horizontal",
            "min": 0,
            "description_tooltip": null,
            "_model_module": "@jupyter-widgets/controls",
            "layout": "IPY_MODEL_e3c1d54f016c4dc0b350d3e7363c5e4a"
          }
        },
        "7b53537f0adb4cae899febc6d54b3a45": {
          "model_module": "@jupyter-widgets/controls",
          "model_name": "HTMLModel",
          "state": {
            "_view_name": "HTMLView",
            "style": "IPY_MODEL_46f69d9c1711412fb92a5781dfad1eb2",
            "_dom_classes": [],
            "description": "",
            "_model_name": "HTMLModel",
            "placeholder": "​",
            "_view_module": "@jupyter-widgets/controls",
            "_model_module_version": "1.5.0",
            "value": " 361/361 [00:07&lt;00:00, 48.2B/s]",
            "_view_count": null,
            "_view_module_version": "1.5.0",
            "description_tooltip": null,
            "_model_module": "@jupyter-widgets/controls",
            "layout": "IPY_MODEL_09d4cf651adf48c6928a19544df8385a"
          }
        },
        "4e7732608a60424fa2136243a65fbafb": {
          "model_module": "@jupyter-widgets/controls",
          "model_name": "ProgressStyleModel",
          "state": {
            "_view_name": "StyleView",
            "_model_name": "ProgressStyleModel",
            "description_width": "initial",
            "_view_module": "@jupyter-widgets/base",
            "_model_module_version": "1.5.0",
            "_view_count": null,
            "_view_module_version": "1.2.0",
            "bar_color": null,
            "_model_module": "@jupyter-widgets/controls"
          }
        },
        "e3c1d54f016c4dc0b350d3e7363c5e4a": {
          "model_module": "@jupyter-widgets/base",
          "model_name": "LayoutModel",
          "state": {
            "_view_name": "LayoutView",
            "grid_template_rows": null,
            "right": null,
            "justify_content": null,
            "_view_module": "@jupyter-widgets/base",
            "overflow": null,
            "_model_module_version": "1.2.0",
            "_view_count": null,
            "flex_flow": null,
            "width": null,
            "min_width": null,
            "border": null,
            "align_items": null,
            "bottom": null,
            "_model_module": "@jupyter-widgets/base",
            "top": null,
            "grid_column": null,
            "overflow_y": null,
            "overflow_x": null,
            "grid_auto_flow": null,
            "grid_area": null,
            "grid_template_columns": null,
            "flex": null,
            "_model_name": "LayoutModel",
            "justify_items": null,
            "grid_row": null,
            "max_height": null,
            "align_content": null,
            "visibility": null,
            "align_self": null,
            "height": null,
            "min_height": null,
            "padding": null,
            "grid_auto_rows": null,
            "grid_gap": null,
            "max_width": null,
            "order": null,
            "_view_module_version": "1.2.0",
            "grid_template_areas": null,
            "object_position": null,
            "object_fit": null,
            "grid_auto_columns": null,
            "margin": null,
            "display": null,
            "left": null
          }
        },
        "46f69d9c1711412fb92a5781dfad1eb2": {
          "model_module": "@jupyter-widgets/controls",
          "model_name": "DescriptionStyleModel",
          "state": {
            "_view_name": "StyleView",
            "_model_name": "DescriptionStyleModel",
            "description_width": "",
            "_view_module": "@jupyter-widgets/base",
            "_model_module_version": "1.5.0",
            "_view_count": null,
            "_view_module_version": "1.2.0",
            "_model_module": "@jupyter-widgets/controls"
          }
        },
        "09d4cf651adf48c6928a19544df8385a": {
          "model_module": "@jupyter-widgets/base",
          "model_name": "LayoutModel",
          "state": {
            "_view_name": "LayoutView",
            "grid_template_rows": null,
            "right": null,
            "justify_content": null,
            "_view_module": "@jupyter-widgets/base",
            "overflow": null,
            "_model_module_version": "1.2.0",
            "_view_count": null,
            "flex_flow": null,
            "width": null,
            "min_width": null,
            "border": null,
            "align_items": null,
            "bottom": null,
            "_model_module": "@jupyter-widgets/base",
            "top": null,
            "grid_column": null,
            "overflow_y": null,
            "overflow_x": null,
            "grid_auto_flow": null,
            "grid_area": null,
            "grid_template_columns": null,
            "flex": null,
            "_model_name": "LayoutModel",
            "justify_items": null,
            "grid_row": null,
            "max_height": null,
            "align_content": null,
            "visibility": null,
            "align_self": null,
            "height": null,
            "min_height": null,
            "padding": null,
            "grid_auto_rows": null,
            "grid_gap": null,
            "max_width": null,
            "order": null,
            "_view_module_version": "1.2.0",
            "grid_template_areas": null,
            "object_position": null,
            "object_fit": null,
            "grid_auto_columns": null,
            "margin": null,
            "display": null,
            "left": null
          }
        },
        "0a8b659b6b7f4351a28ec11f8c585de3": {
          "model_module": "@jupyter-widgets/controls",
          "model_name": "HBoxModel",
          "state": {
            "_view_name": "HBoxView",
            "_dom_classes": [],
            "_model_name": "HBoxModel",
            "_view_module": "@jupyter-widgets/controls",
            "_model_module_version": "1.5.0",
            "_view_count": null,
            "_view_module_version": "1.5.0",
            "box_style": "",
            "layout": "IPY_MODEL_e76d59f9e9c2477fadacfe4921efa083",
            "_model_module": "@jupyter-widgets/controls",
            "children": [
              "IPY_MODEL_54f817efd10d4d03ab5c4cc31ef82e32",
              "IPY_MODEL_2acf3335f4f94329b97221bbabfc2e2a"
            ]
          }
        },
        "e76d59f9e9c2477fadacfe4921efa083": {
          "model_module": "@jupyter-widgets/base",
          "model_name": "LayoutModel",
          "state": {
            "_view_name": "LayoutView",
            "grid_template_rows": null,
            "right": null,
            "justify_content": null,
            "_view_module": "@jupyter-widgets/base",
            "overflow": null,
            "_model_module_version": "1.2.0",
            "_view_count": null,
            "flex_flow": null,
            "width": null,
            "min_width": null,
            "border": null,
            "align_items": null,
            "bottom": null,
            "_model_module": "@jupyter-widgets/base",
            "top": null,
            "grid_column": null,
            "overflow_y": null,
            "overflow_x": null,
            "grid_auto_flow": null,
            "grid_area": null,
            "grid_template_columns": null,
            "flex": null,
            "_model_name": "LayoutModel",
            "justify_items": null,
            "grid_row": null,
            "max_height": null,
            "align_content": null,
            "visibility": null,
            "align_self": null,
            "height": null,
            "min_height": null,
            "padding": null,
            "grid_auto_rows": null,
            "grid_gap": null,
            "max_width": null,
            "order": null,
            "_view_module_version": "1.2.0",
            "grid_template_areas": null,
            "object_position": null,
            "object_fit": null,
            "grid_auto_columns": null,
            "margin": null,
            "display": null,
            "left": null
          }
        },
        "54f817efd10d4d03ab5c4cc31ef82e32": {
          "model_module": "@jupyter-widgets/controls",
          "model_name": "IntProgressModel",
          "state": {
            "_view_name": "ProgressView",
            "style": "IPY_MODEL_02aa719d20ea4906b51a2251241d9c90",
            "_dom_classes": [],
            "description": "Downloading: 100%",
            "_model_name": "IntProgressModel",
            "bar_style": "success",
            "max": 440473133,
            "_view_module": "@jupyter-widgets/controls",
            "_model_module_version": "1.5.0",
            "value": 440473133,
            "_view_count": null,
            "_view_module_version": "1.5.0",
            "orientation": "horizontal",
            "min": 0,
            "description_tooltip": null,
            "_model_module": "@jupyter-widgets/controls",
            "layout": "IPY_MODEL_3df95c94b8e04b189f0c0a395b29b82f"
          }
        },
        "2acf3335f4f94329b97221bbabfc2e2a": {
          "model_module": "@jupyter-widgets/controls",
          "model_name": "HTMLModel",
          "state": {
            "_view_name": "HTMLView",
            "style": "IPY_MODEL_30cecbe5d51c4de89a69d37e98bc6928",
            "_dom_classes": [],
            "description": "",
            "_model_name": "HTMLModel",
            "placeholder": "​",
            "_view_module": "@jupyter-widgets/controls",
            "_model_module_version": "1.5.0",
            "value": " 440M/440M [00:07&lt;00:00, 61.6MB/s]",
            "_view_count": null,
            "_view_module_version": "1.5.0",
            "description_tooltip": null,
            "_model_module": "@jupyter-widgets/controls",
            "layout": "IPY_MODEL_97debb469b4241d693d80395624c1252"
          }
        },
        "02aa719d20ea4906b51a2251241d9c90": {
          "model_module": "@jupyter-widgets/controls",
          "model_name": "ProgressStyleModel",
          "state": {
            "_view_name": "StyleView",
            "_model_name": "ProgressStyleModel",
            "description_width": "initial",
            "_view_module": "@jupyter-widgets/base",
            "_model_module_version": "1.5.0",
            "_view_count": null,
            "_view_module_version": "1.2.0",
            "bar_color": null,
            "_model_module": "@jupyter-widgets/controls"
          }
        },
        "3df95c94b8e04b189f0c0a395b29b82f": {
          "model_module": "@jupyter-widgets/base",
          "model_name": "LayoutModel",
          "state": {
            "_view_name": "LayoutView",
            "grid_template_rows": null,
            "right": null,
            "justify_content": null,
            "_view_module": "@jupyter-widgets/base",
            "overflow": null,
            "_model_module_version": "1.2.0",
            "_view_count": null,
            "flex_flow": null,
            "width": null,
            "min_width": null,
            "border": null,
            "align_items": null,
            "bottom": null,
            "_model_module": "@jupyter-widgets/base",
            "top": null,
            "grid_column": null,
            "overflow_y": null,
            "overflow_x": null,
            "grid_auto_flow": null,
            "grid_area": null,
            "grid_template_columns": null,
            "flex": null,
            "_model_name": "LayoutModel",
            "justify_items": null,
            "grid_row": null,
            "max_height": null,
            "align_content": null,
            "visibility": null,
            "align_self": null,
            "height": null,
            "min_height": null,
            "padding": null,
            "grid_auto_rows": null,
            "grid_gap": null,
            "max_width": null,
            "order": null,
            "_view_module_version": "1.2.0",
            "grid_template_areas": null,
            "object_position": null,
            "object_fit": null,
            "grid_auto_columns": null,
            "margin": null,
            "display": null,
            "left": null
          }
        },
        "30cecbe5d51c4de89a69d37e98bc6928": {
          "model_module": "@jupyter-widgets/controls",
          "model_name": "DescriptionStyleModel",
          "state": {
            "_view_name": "StyleView",
            "_model_name": "DescriptionStyleModel",
            "description_width": "",
            "_view_module": "@jupyter-widgets/base",
            "_model_module_version": "1.5.0",
            "_view_count": null,
            "_view_module_version": "1.2.0",
            "_model_module": "@jupyter-widgets/controls"
          }
        },
        "97debb469b4241d693d80395624c1252": {
          "model_module": "@jupyter-widgets/base",
          "model_name": "LayoutModel",
          "state": {
            "_view_name": "LayoutView",
            "grid_template_rows": null,
            "right": null,
            "justify_content": null,
            "_view_module": "@jupyter-widgets/base",
            "overflow": null,
            "_model_module_version": "1.2.0",
            "_view_count": null,
            "flex_flow": null,
            "width": null,
            "min_width": null,
            "border": null,
            "align_items": null,
            "bottom": null,
            "_model_module": "@jupyter-widgets/base",
            "top": null,
            "grid_column": null,
            "overflow_y": null,
            "overflow_x": null,
            "grid_auto_flow": null,
            "grid_area": null,
            "grid_template_columns": null,
            "flex": null,
            "_model_name": "LayoutModel",
            "justify_items": null,
            "grid_row": null,
            "max_height": null,
            "align_content": null,
            "visibility": null,
            "align_self": null,
            "height": null,
            "min_height": null,
            "padding": null,
            "grid_auto_rows": null,
            "grid_gap": null,
            "max_width": null,
            "order": null,
            "_view_module_version": "1.2.0",
            "grid_template_areas": null,
            "object_position": null,
            "object_fit": null,
            "grid_auto_columns": null,
            "margin": null,
            "display": null,
            "left": null
          }
        }
      }
    }
  },
  "cells": [
    {
      "cell_type": "code",
      "metadata": {
        "id": "AzBM7fX78o3I",
        "colab_type": "code",
        "outputId": "9121ef77-b3de-407b-a6de-66ce0becd45f",
        "colab": {
          "base_uri": "https://localhost:8080/",
          "height": 721
        }
      },
      "source": [
        "!pip install transformers"
      ],
      "execution_count": 0,
      "outputs": [
        {
          "output_type": "stream",
          "text": [
            "Collecting transformers\n",
            "\u001b[?25l  Downloading https://files.pythonhosted.org/packages/37/ba/dda44bbf35b071441635708a3dd568a5ca6bf29f77389f7c7c6818ae9498/transformers-2.7.0-py3-none-any.whl (544kB)\n",
            "\u001b[K     |████████████████████████████████| 552kB 3.5MB/s \n",
            "\u001b[?25hRequirement already satisfied: filelock in /usr/local/lib/python3.6/dist-packages (from transformers) (3.0.12)\n",
            "Requirement already satisfied: regex!=2019.12.17 in /usr/local/lib/python3.6/dist-packages (from transformers) (2019.12.20)\n",
            "Requirement already satisfied: requests in /usr/local/lib/python3.6/dist-packages (from transformers) (2.21.0)\n",
            "Requirement already satisfied: boto3 in /usr/local/lib/python3.6/dist-packages (from transformers) (1.12.31)\n",
            "Collecting sentencepiece\n",
            "\u001b[?25l  Downloading https://files.pythonhosted.org/packages/74/f4/2d5214cbf13d06e7cb2c20d84115ca25b53ea76fa1f0ade0e3c9749de214/sentencepiece-0.1.85-cp36-cp36m-manylinux1_x86_64.whl (1.0MB)\n",
            "\u001b[K     |████████████████████████████████| 1.0MB 19.4MB/s \n",
            "\u001b[?25hRequirement already satisfied: dataclasses; python_version < \"3.7\" in /usr/local/lib/python3.6/dist-packages (from transformers) (0.7)\n",
            "Collecting tokenizers==0.5.2\n",
            "\u001b[?25l  Downloading https://files.pythonhosted.org/packages/d1/3f/73c881ea4723e43c1e9acf317cf407fab3a278daab3a69c98dcac511c04f/tokenizers-0.5.2-cp36-cp36m-manylinux1_x86_64.whl (3.7MB)\n",
            "\u001b[K     |████████████████████████████████| 3.7MB 21.6MB/s \n",
            "\u001b[?25hRequirement already satisfied: tqdm>=4.27 in /usr/local/lib/python3.6/dist-packages (from transformers) (4.38.0)\n",
            "Collecting sacremoses\n",
            "\u001b[?25l  Downloading https://files.pythonhosted.org/packages/a6/b4/7a41d630547a4afd58143597d5a49e07bfd4c42914d8335b2a5657efc14b/sacremoses-0.0.38.tar.gz (860kB)\n",
            "\u001b[K     |████████████████████████████████| 870kB 40.4MB/s \n",
            "\u001b[?25hRequirement already satisfied: numpy in /usr/local/lib/python3.6/dist-packages (from transformers) (1.18.2)\n",
            "Requirement already satisfied: chardet<3.1.0,>=3.0.2 in /usr/local/lib/python3.6/dist-packages (from requests->transformers) (3.0.4)\n",
            "Requirement already satisfied: urllib3<1.25,>=1.21.1 in /usr/local/lib/python3.6/dist-packages (from requests->transformers) (1.24.3)\n",
            "Requirement already satisfied: certifi>=2017.4.17 in /usr/local/lib/python3.6/dist-packages (from requests->transformers) (2019.11.28)\n",
            "Requirement already satisfied: idna<2.9,>=2.5 in /usr/local/lib/python3.6/dist-packages (from requests->transformers) (2.8)\n",
            "Requirement already satisfied: s3transfer<0.4.0,>=0.3.0 in /usr/local/lib/python3.6/dist-packages (from boto3->transformers) (0.3.3)\n",
            "Requirement already satisfied: botocore<1.16.0,>=1.15.31 in /usr/local/lib/python3.6/dist-packages (from boto3->transformers) (1.15.31)\n",
            "Requirement already satisfied: jmespath<1.0.0,>=0.7.1 in /usr/local/lib/python3.6/dist-packages (from boto3->transformers) (0.9.5)\n",
            "Requirement already satisfied: six in /usr/local/lib/python3.6/dist-packages (from sacremoses->transformers) (1.12.0)\n",
            "Requirement already satisfied: click in /usr/local/lib/python3.6/dist-packages (from sacremoses->transformers) (7.1.1)\n",
            "Requirement already satisfied: joblib in /usr/local/lib/python3.6/dist-packages (from sacremoses->transformers) (0.14.1)\n",
            "Requirement already satisfied: docutils<0.16,>=0.10 in /usr/local/lib/python3.6/dist-packages (from botocore<1.16.0,>=1.15.31->boto3->transformers) (0.15.2)\n",
            "Requirement already satisfied: python-dateutil<3.0.0,>=2.1 in /usr/local/lib/python3.6/dist-packages (from botocore<1.16.0,>=1.15.31->boto3->transformers) (2.8.1)\n",
            "Building wheels for collected packages: sacremoses\n",
            "  Building wheel for sacremoses (setup.py) ... \u001b[?25l\u001b[?25hdone\n",
            "  Created wheel for sacremoses: filename=sacremoses-0.0.38-cp36-none-any.whl size=884628 sha256=3f30e9ca8ad96ebc5cff422bab3768414ad83a306879ff4881b072e3708fef1a\n",
            "  Stored in directory: /root/.cache/pip/wheels/6d/ec/1a/21b8912e35e02741306f35f66c785f3afe94de754a0eaf1422\n",
            "Successfully built sacremoses\n",
            "Installing collected packages: sentencepiece, tokenizers, sacremoses, transformers\n",
            "Successfully installed sacremoses-0.0.38 sentencepiece-0.1.85 tokenizers-0.5.2 transformers-2.7.0\n"
          ],
          "name": "stdout"
        }
      ]
    },
    {
      "cell_type": "code",
      "metadata": {
        "id": "yI_3Eoyf82hi",
        "colab_type": "code",
        "colab": {}
      },
      "source": [
        "import torch\n",
        "from transformers import BertModel,BertTokenizer"
      ],
      "execution_count": 0,
      "outputs": []
    },
    {
      "cell_type": "code",
      "metadata": {
        "id": "XhQWJFig9VSp",
        "colab_type": "code",
        "outputId": "5814f117-1ec6-47e0-d4dc-a0580e1f454c",
        "colab": {
          "base_uri": "https://localhost:8080/",
          "height": 67,
          "referenced_widgets": [
            "e4635e15310b4cca892d63074d9d6c0f",
            "2de80a55f1824bd2a9a338407352d1eb",
            "7e3d3c46f34a4c729f0ee01dcf493be9",
            "15e585d0860d4b3f952e83421ff1a9d5",
            "51137b71bfee47ccb8daf41332dd92a4",
            "93b2850662d84a1289bcea882f6d251b",
            "4b724ac0142b4cc99afa057a886007da",
            "277f046d05914dc4908f61e28eafcce9"
          ]
        }
      },
      "source": [
        "tokenizer = BertTokenizer.from_pretrained('bert-base-uncased')\n"
      ],
      "execution_count": 0,
      "outputs": [
        {
          "output_type": "display_data",
          "data": {
            "application/vnd.jupyter.widget-view+json": {
              "model_id": "e4635e15310b4cca892d63074d9d6c0f",
              "version_minor": 0,
              "version_major": 2
            },
            "text/plain": [
              "HBox(children=(IntProgress(value=0, description='Downloading', max=231508, style=ProgressStyle(description_wid…"
            ]
          },
          "metadata": {
            "tags": []
          }
        },
        {
          "output_type": "stream",
          "text": [
            "\n"
          ],
          "name": "stdout"
        }
      ]
    },
    {
      "cell_type": "markdown",
      "metadata": {
        "id": "4XmdiPuqWSbE",
        "colab_type": "text"
      },
      "source": [
        "'''\n",
        "\n",
        "#encoded = tokenizer.encode('who was jim henson',add_special_tokens=True)\n",
        "\n",
        "\n",
        "indexed_tokens = torch.tensor([tokenizer.convert_tokens_to_ids(tokenized_text)])\n",
        "indexed_tokens\n",
        "\n",
        "indexed_tokens.shape\n",
        "\n",
        "\n",
        "model = BertModel.from_pretrained('bert-base-uncased')\n",
        "model.eval()\n",
        "\n",
        "outputs = None\n",
        "with torch.no_grad():\n",
        "  outputs = model(indexed_tokens)\n",
        "\n",
        "\n",
        "\n",
        "outputs[0].shape\n",
        "#outputs[1].shape\n",
        "\n"
      ]
    },
    {
      "cell_type": "code",
      "metadata": {
        "id": "ADIzS9lMAC4u",
        "colab_type": "code",
        "colab": {}
      },
      "source": [
        "\n",
        "question = [\"How much is jacob paid\",\n",
        "            \"What is the total salary of jacob\",\n",
        "          ]\n",
        "\n",
        "cols = [  [ 'id','name','total salary' ], [ 'id','name','total salary'], ]\n",
        "\n",
        "\n",
        "\n"
      ],
      "execution_count": 0,
      "outputs": []
    },
    {
      "cell_type": "code",
      "metadata": {
        "id": "tSWe4_b6fG37",
        "colab_type": "code",
        "colab": {}
      },
      "source": [
        ""
      ],
      "execution_count": 0,
      "outputs": []
    },
    {
      "cell_type": "code",
      "metadata": {
        "id": "cODdxBeP-17r",
        "colab_type": "code",
        "outputId": "d5bbd81c-cd13-4149-97af-953fd9d3abf7",
        "colab": {
          "base_uri": "https://localhost:8080/",
          "height": 71
        }
      },
      "source": [
        "import numpy as np\n",
        "\n",
        "\n",
        "batch_question_word_id = []\n",
        "batch_size = len(question)\n",
        "\n",
        "for cur in question:\n",
        "  batch_question_word_id.append(tokenizer.encode(cur,add_special_tokens=True))\n",
        "\n",
        "print(batch_question_word_id)\n",
        "\n",
        "\n",
        "q_len = np.zeros((batch_size),dtype=np.int_)\n",
        "for i in range(len(batch_question_word_id)):\n",
        "  q_len[i] = len(batch_question_word_id[i])\n",
        "\n",
        "maximum_length = max( len(x) for x in batch_question_word_id )\n",
        "print(maximum_length)\n",
        "\n",
        "\n",
        "print(q_len)\n"
      ],
      "execution_count": 0,
      "outputs": [
        {
          "output_type": "stream",
          "text": [
            "[[101, 2129, 2172, 2003, 6213, 3825, 102], [101, 2054, 2003, 1996, 2561, 10300, 1997, 6213, 102]]\n",
            "9\n",
            "[7 9]\n"
          ],
          "name": "stdout"
        }
      ]
    },
    {
      "cell_type": "code",
      "metadata": {
        "id": "dtIz22fF_oyC",
        "colab_type": "code",
        "outputId": "793e6cf5-dc13-47f9-edcd-30037df6c719",
        "colab": {
          "base_uri": "https://localhost:8080/",
          "height": 53
        }
      },
      "source": [
        "import numpy as np\n",
        "\n",
        "batch_embedding = np.zeros((batch_size,maximum_length),dtype=np.int_)\n",
        "for i in range(batch_size):\n",
        "\n",
        "  batch_embedding[i,:len(batch_question_word_id[i])] = batch_question_word_id[i]\n",
        "\n",
        "print(batch_embedding)"
      ],
      "execution_count": 0,
      "outputs": [
        {
          "output_type": "stream",
          "text": [
            "[[  101  2129  2172  2003  6213  3825   102     0     0]\n",
            " [  101  2054  2003  1996  2561 10300  1997  6213   102]]\n"
          ],
          "name": "stdout"
        }
      ]
    },
    {
      "cell_type": "code",
      "metadata": {
        "id": "_AHnYheuBqTn",
        "colab_type": "code",
        "outputId": "c7efd2cf-58c0-44d2-ecd6-1cd99fa3cc8a",
        "colab": {
          "base_uri": "https://localhost:8080/",
          "height": 35
        }
      },
      "source": [
        "question_embedding = torch.tensor(batch_embedding)\n",
        "print(question_embedding.shape)"
      ],
      "execution_count": 0,
      "outputs": [
        {
          "output_type": "stream",
          "text": [
            "torch.Size([2, 9])\n"
          ],
          "name": "stdout"
        }
      ]
    },
    {
      "cell_type": "code",
      "metadata": {
        "id": "yr7uaSx9Cb4t",
        "colab_type": "code",
        "outputId": "7f10cb24-c0c6-4eb8-980e-dd473b22c209",
        "colab": {
          "base_uri": "https://localhost:8080/",
          "height": 117,
          "referenced_widgets": [
            "cdef7f4261984ecb9e2d7f34cec89fea",
            "1df173ce11314ff78c4627b6c7d36654",
            "b552558637f744988294be9b8a5febf2",
            "7b53537f0adb4cae899febc6d54b3a45",
            "4e7732608a60424fa2136243a65fbafb",
            "e3c1d54f016c4dc0b350d3e7363c5e4a",
            "46f69d9c1711412fb92a5781dfad1eb2",
            "09d4cf651adf48c6928a19544df8385a",
            "0a8b659b6b7f4351a28ec11f8c585de3",
            "e76d59f9e9c2477fadacfe4921efa083",
            "54f817efd10d4d03ab5c4cc31ef82e32",
            "2acf3335f4f94329b97221bbabfc2e2a",
            "02aa719d20ea4906b51a2251241d9c90",
            "3df95c94b8e04b189f0c0a395b29b82f",
            "30cecbe5d51c4de89a69d37e98bc6928",
            "97debb469b4241d693d80395624c1252"
          ]
        }
      },
      "source": [
        "model = BertModel.from_pretrained('bert-base-uncased')\n",
        "model.eval()\n",
        "\n",
        "outputs = None\n",
        "with torch.no_grad():\n",
        "  outputs = model(question_embedding)\n",
        "  "
      ],
      "execution_count": 0,
      "outputs": [
        {
          "output_type": "display_data",
          "data": {
            "application/vnd.jupyter.widget-view+json": {
              "model_id": "cdef7f4261984ecb9e2d7f34cec89fea",
              "version_minor": 0,
              "version_major": 2
            },
            "text/plain": [
              "HBox(children=(IntProgress(value=0, description='Downloading', max=361, style=ProgressStyle(description_width=…"
            ]
          },
          "metadata": {
            "tags": []
          }
        },
        {
          "output_type": "stream",
          "text": [
            "\n"
          ],
          "name": "stdout"
        },
        {
          "output_type": "display_data",
          "data": {
            "application/vnd.jupyter.widget-view+json": {
              "model_id": "0a8b659b6b7f4351a28ec11f8c585de3",
              "version_minor": 0,
              "version_major": 2
            },
            "text/plain": [
              "HBox(children=(IntProgress(value=0, description='Downloading', max=440473133, style=ProgressStyle(description_…"
            ]
          },
          "metadata": {
            "tags": []
          }
        },
        {
          "output_type": "stream",
          "text": [
            "\n"
          ],
          "name": "stdout"
        }
      ]
    },
    {
      "cell_type": "code",
      "metadata": {
        "id": "6T3t1V2uCjsM",
        "colab_type": "code",
        "outputId": "ebb500a5-9ecb-44e2-d98f-aa249dacc99c",
        "colab": {
          "base_uri": "https://localhost:8080/",
          "height": 35
        }
      },
      "source": [
        "outputs[0].shape\n"
      ],
      "execution_count": 0,
      "outputs": [
        {
          "output_type": "execute_result",
          "data": {
            "text/plain": [
              "torch.Size([2, 9, 768])"
            ]
          },
          "metadata": {
            "tags": []
          },
          "execution_count": 13
        }
      ]
    },
    {
      "cell_type": "code",
      "metadata": {
        "id": "BQhsbCeIeqMP",
        "colab_type": "code",
        "outputId": "eeaad7b1-6403-4505-93ac-9be5b230fe28",
        "colab": {
          "base_uri": "https://localhost:8080/",
          "height": 35
        }
      },
      "source": [
        "col_len = np.zeros((batch_size),dtype=np.int_)\n",
        "for i in range(batch_size):\n",
        "\n",
        "  col_len[i] = len(cols[i])\n",
        "\n",
        "print(col_len)"
      ],
      "execution_count": 0,
      "outputs": [
        {
          "output_type": "stream",
          "text": [
            "[3 3]\n"
          ],
          "name": "stdout"
        }
      ]
    },
    {
      "cell_type": "code",
      "metadata": {
        "id": "WFLX_IKXjsT3",
        "colab_type": "code",
        "outputId": "fe88b74c-80b5-4ba8-8b93-d4fe2177d666",
        "colab": {
          "base_uri": "https://localhost:8080/",
          "height": 1000
        }
      },
      "source": [
        "column_embeddings = [] \n",
        "\n",
        "with torch.no_grad():\n",
        "  \n",
        "\n",
        "  for b in range(batch_size):\n",
        "    current_ques = []\n",
        "    for c in cols[b]:\n",
        "      encoded_name = torch.tensor([tokenizer.encode(c,add_special_tokens=True)])\n",
        "      encoded = model(encoded_name)\n",
        "      current_ques.append(encoded[1][0])\n",
        "\n",
        "    column_embeddings.append(current_ques)\n",
        "\n",
        "\n",
        "print(column_embeddings[0])\n",
        "\n",
        "\n",
        "\n",
        "\n"
      ],
      "execution_count": 0,
      "outputs": [
        {
          "output_type": "stream",
          "text": [
            "[tensor([-9.1390e-01, -2.6067e-01, -1.6177e-01,  8.6036e-01, -2.3931e-01,\n",
            "        -9.2996e-02,  9.3982e-01,  1.4347e-01, -1.5215e-01, -9.9997e-01,\n",
            "        -2.3034e-01,  7.5573e-01,  9.8750e-01,  1.5271e-01,  9.4250e-01,\n",
            "        -6.4603e-01, -5.0243e-01, -4.9210e-01,  4.6132e-01, -8.5394e-01,\n",
            "         6.6645e-01,  9.9549e-01,  5.4160e-01,  2.4272e-01,  4.8839e-01,\n",
            "         9.0172e-01, -6.9724e-01,  9.5383e-01,  9.6663e-01,  7.4506e-01,\n",
            "        -8.0295e-01,  1.2239e-01, -9.9282e-01, -2.8215e-01, -3.9581e-01,\n",
            "        -9.9138e-01,  2.8494e-01, -8.3428e-01, -2.4879e-03,  8.8365e-02,\n",
            "        -9.2930e-01,  2.3227e-01,  9.9976e-01,  3.2397e-01,  1.9170e-01,\n",
            "        -3.5573e-01, -1.0000e+00,  2.1411e-01, -9.1079e-01,  4.2392e-01,\n",
            "         2.2255e-01, -1.2050e-01,  1.2537e-01,  4.1669e-01,  5.1614e-01,\n",
            "         3.8794e-01, -1.3235e-01,  1.2139e-01, -1.9305e-01, -6.1237e-01,\n",
            "        -6.4926e-01,  5.1568e-01, -4.3699e-01, -8.9856e-01,  2.2986e-01,\n",
            "         5.7683e-02, -1.2858e-01, -2.1665e-01, -3.0067e-03, -3.0013e-02,\n",
            "         8.8903e-01,  1.7353e-01,  3.9710e-01, -8.5401e-01, -7.0622e-02,\n",
            "         1.3592e-01, -6.3356e-01,  1.0000e+00, -7.3553e-01, -9.8486e-01,\n",
            "         6.4309e-02,  2.3608e-02,  5.0760e-01,  4.4446e-01, -1.9753e-01,\n",
            "        -1.0000e+00,  4.1613e-01, -1.3460e-01, -9.9369e-01,  1.8495e-01,\n",
            "         4.3955e-01, -2.1635e-01, -2.7909e-01,  5.1549e-01, -2.8032e-01,\n",
            "        -3.0567e-01, -3.7716e-01, -5.0788e-02, -3.3997e-01, -1.8002e-01,\n",
            "         4.5179e-02, -2.1611e-01, -1.7677e-01, -3.9114e-01,  2.6852e-01,\n",
            "        -3.3284e-01, -5.7183e-01,  3.3736e-01, -3.0814e-01,  6.6662e-01,\n",
            "         3.1384e-01, -3.3640e-01,  4.4514e-01, -9.6864e-01,  6.7026e-01,\n",
            "        -2.3540e-01, -9.8851e-01, -5.8585e-01, -9.9278e-01,  7.7809e-01,\n",
            "        -1.9607e-01, -1.2054e-01,  9.6254e-01,  2.1802e-01,  3.0254e-01,\n",
            "        -1.0221e-01, -2.2579e-01, -1.0000e+00, -5.6585e-01, -4.3215e-01,\n",
            "         2.8227e-01, -2.2149e-01, -9.8411e-01, -9.6824e-01,  6.4342e-01,\n",
            "         9.5840e-01,  1.6815e-01,  9.9921e-01, -3.7371e-01,  9.4916e-01,\n",
            "         1.3178e-01, -2.6970e-01, -1.7751e-01, -5.0569e-01,  5.7843e-01,\n",
            "         6.1053e-01, -8.4440e-01,  2.1963e-01, -5.8145e-02, -6.5855e-02,\n",
            "        -2.5684e-01, -1.8511e-01, -1.4930e-01, -9.5324e-01, -4.6345e-01,\n",
            "         9.6625e-01,  1.5195e-01, -2.5052e-01,  5.7412e-01, -3.0975e-01,\n",
            "        -4.8087e-01,  8.7050e-01,  5.5751e-01,  3.7739e-01,  6.4386e-04,\n",
            "         4.9703e-01, -8.1887e-02,  5.5358e-01, -8.8028e-01,  3.6204e-01,\n",
            "         4.5942e-01, -2.9689e-01, -2.3134e-01, -9.8438e-01, -4.0225e-01,\n",
            "         5.4735e-01,  9.9421e-01,  7.6713e-01,  2.9688e-01,  2.6851e-01,\n",
            "        -3.3689e-01,  4.1232e-01, -9.6189e-01,  9.8462e-01, -3.2865e-01,\n",
            "         2.7517e-01,  5.9949e-01, -1.7051e-01, -9.0644e-01, -2.9992e-01,\n",
            "         8.6165e-01, -2.5771e-01, -8.7194e-01, -3.7409e-02, -6.0552e-01,\n",
            "        -3.5580e-01,  7.8617e-02,  6.3117e-01, -1.8072e-01, -3.7173e-01,\n",
            "        -2.2268e-01,  9.2865e-01,  9.8002e-01,  8.3724e-01, -2.1685e-01,\n",
            "         6.5590e-01, -9.2629e-01, -6.0775e-01,  1.3482e-01,  3.0223e-01,\n",
            "         2.1827e-01,  9.9517e-01, -4.1080e-02, -1.6324e-01, -9.4107e-01,\n",
            "        -9.9029e-01,  3.9503e-02, -9.2215e-01, -1.4980e-01, -7.7975e-01,\n",
            "         4.2148e-01,  7.8283e-01, -8.8813e-02,  4.9242e-01, -9.9062e-01,\n",
            "        -8.3784e-01,  3.6537e-01, -4.0284e-01,  4.1671e-01, -2.3889e-01,\n",
            "         4.8833e-01,  4.5248e-01, -6.9615e-01,  8.5696e-01,  9.2561e-01,\n",
            "         2.9102e-01, -7.8631e-01,  8.9580e-01, -4.1032e-01,  9.0095e-01,\n",
            "        -6.3445e-01,  9.8365e-01,  6.3393e-01,  7.6440e-01, -9.5600e-01,\n",
            "        -3.6306e-04, -9.1721e-01, -5.8458e-02, -1.9363e-01, -4.9183e-01,\n",
            "         2.2891e-01,  5.9701e-01,  3.5218e-01,  7.1058e-01, -6.0863e-01,\n",
            "         9.9805e-01, -2.2570e-01, -9.7248e-01,  5.3667e-01, -2.1605e-01,\n",
            "        -9.9304e-01,  3.1327e-01,  2.8024e-01, -6.0312e-01, -3.9533e-01,\n",
            "        -4.3244e-01, -9.6531e-01,  9.3736e-01,  1.8710e-01,  9.9177e-01,\n",
            "         2.4251e-01, -9.7123e-01, -2.8367e-01, -9.4794e-01, -1.4637e-01,\n",
            "        -2.1650e-01,  3.5056e-01, -1.9551e-01, -9.4946e-01,  5.0040e-01,\n",
            "         5.6150e-01,  4.4916e-01,  9.0720e-02,  9.9815e-01,  9.9996e-01,\n",
            "         9.8135e-01,  9.0716e-01,  9.0923e-01, -9.8537e-01,  4.4025e-01,\n",
            "         9.9998e-01, -8.9214e-01, -1.0000e+00, -9.4680e-01, -6.6203e-01,\n",
            "         5.2938e-01, -1.0000e+00, -2.9952e-02, -4.8505e-02, -9.5084e-01,\n",
            "        -1.3680e-02,  9.8594e-01,  9.9374e-01, -1.0000e+00,  8.6812e-01,\n",
            "         9.5602e-01, -6.2196e-01,  7.1577e-01, -8.9649e-02,  9.7987e-01,\n",
            "         4.0023e-01,  1.0931e-01, -2.0666e-01,  2.7693e-01, -4.0853e-01,\n",
            "        -9.0292e-01,  7.6211e-02,  1.8538e-01,  8.0792e-01,  2.1770e-01,\n",
            "        -7.3577e-01, -9.4237e-01, -1.6615e-01, -1.2189e-01, -1.5162e-01,\n",
            "        -9.6961e-01, -1.5110e-01, -2.7428e-01,  7.4590e-01,  5.0944e-02,\n",
            "         3.2292e-01, -7.8990e-01,  2.6298e-01, -3.5224e-01,  5.4326e-01,\n",
            "         6.1445e-01, -9.3304e-01, -7.8193e-01, -5.7859e-01, -4.7970e-01,\n",
            "         9.7700e-02, -9.6211e-01,  9.8098e-01, -3.0732e-01,  2.4486e-01,\n",
            "         1.0000e+00, -4.4699e-01, -8.9884e-01,  3.0913e-01,  2.6054e-01,\n",
            "        -3.8518e-01,  1.0000e+00,  7.2044e-01, -9.8840e-01, -5.4420e-01,\n",
            "         2.2046e-02, -4.1161e-01, -5.2015e-01,  9.9928e-01, -2.1657e-01,\n",
            "         9.8066e-02,  3.9617e-01,  9.8674e-01, -9.9439e-01,  7.6486e-01,\n",
            "        -9.3379e-01, -9.7374e-01,  9.6009e-01,  9.5007e-01, -3.1249e-01,\n",
            "        -6.7719e-01,  1.6123e-01, -2.7170e-01,  3.1523e-01, -9.6588e-01,\n",
            "         7.5891e-01,  5.7004e-01, -2.2765e-01,  9.1870e-01, -9.2187e-01,\n",
            "        -5.7710e-01,  3.4097e-01, -9.7416e-02,  4.2768e-01,  3.2304e-01,\n",
            "         5.6972e-01, -3.2618e-01,  1.0562e-01, -2.6631e-01, -5.1833e-02,\n",
            "        -9.7746e-01,  2.3771e-01,  1.0000e+00,  2.2514e-01, -1.7109e-01,\n",
            "        -2.0968e-01, -2.2234e-02, -2.9392e-01,  3.2107e-01,  5.1218e-01,\n",
            "        -2.0410e-01, -8.1707e-01,  9.9527e-02, -9.6130e-01, -9.9200e-01,\n",
            "         8.4154e-01,  1.6336e-01, -3.8659e-01,  9.9996e-01,  3.3719e-01,\n",
            "         2.2538e-01, -1.9946e-01,  7.2878e-01,  4.5498e-02,  5.9101e-01,\n",
            "        -6.1946e-02,  9.8231e-01, -2.8864e-01,  5.2640e-01,  8.8101e-01,\n",
            "        -2.8122e-01, -3.7502e-01, -6.5319e-01,  7.5721e-02, -9.4423e-01,\n",
            "        -2.1907e-01, -9.6708e-01,  9.7159e-01,  3.6593e-01,  3.5985e-01,\n",
            "         2.5547e-01,  6.2482e-02,  1.0000e+00,  4.1758e-01,  7.1190e-01,\n",
            "        -7.2563e-01,  9.2048e-01, -9.6895e-01, -8.4090e-01, -4.0868e-01,\n",
            "        -5.5723e-02, -9.8501e-02, -3.3675e-01,  3.6378e-01, -9.8004e-01,\n",
            "         2.3917e-01, -1.4548e-01, -9.9042e-01, -9.9300e-01,  2.3333e-01,\n",
            "         8.0708e-01,  3.1455e-02, -7.0681e-01, -7.5453e-01, -5.6496e-01,\n",
            "         1.1427e-01, -3.6006e-01, -9.4014e-01,  4.2815e-01, -2.9779e-01,\n",
            "         5.0952e-01, -1.9786e-01,  5.8650e-01, -1.4194e-02,  7.9892e-01,\n",
            "         4.0043e-01,  2.3597e-01, -2.7719e-02, -8.6997e-01,  8.9278e-01,\n",
            "        -8.7850e-01, -1.9276e-01, -2.2968e-01,  1.0000e+00, -2.9109e-01,\n",
            "         4.9373e-01,  7.5779e-01,  7.4854e-01, -1.1555e-01,  2.1033e-01,\n",
            "         3.7517e-01,  2.5046e-01, -1.7501e-02,  9.2778e-02, -8.5878e-01,\n",
            "        -3.3906e-01,  6.9656e-01, -2.8570e-01, -1.2848e-01,  8.6944e-01,\n",
            "         1.8509e-01,  1.7812e-01,  2.1566e-02,  1.1861e-01,  9.9945e-01,\n",
            "        -3.1084e-01, -1.6232e-01, -6.7002e-01, -1.0381e-01, -2.7280e-01,\n",
            "        -7.7422e-01,  1.0000e+00,  4.7680e-01, -1.7433e-01, -9.9371e-01,\n",
            "        -4.5656e-02, -9.2761e-01,  9.9985e-01,  8.7845e-01, -8.1482e-01,\n",
            "         5.8268e-01,  4.2685e-01, -1.7502e-01,  8.2998e-01, -2.7317e-01,\n",
            "        -2.4511e-01,  1.1345e-01,  1.3545e-01,  9.6504e-01, -5.4955e-01,\n",
            "        -9.8127e-01, -6.5542e-01,  3.4000e-01, -9.6530e-01,  9.7990e-01,\n",
            "        -5.9218e-01, -1.9661e-01, -2.6728e-01,  5.0927e-01,  8.6915e-01,\n",
            "        -1.1212e-01, -9.8547e-01, -1.6792e-01,  1.6225e-01,  9.8243e-01,\n",
            "         1.9618e-01, -5.8285e-01, -9.3470e-01,  2.6112e-02,  3.8161e-01,\n",
            "         9.0627e-03, -9.3497e-01,  9.7591e-01, -9.8744e-01,  4.5025e-01,\n",
            "         1.0000e+00,  3.2768e-01, -5.3426e-01,  2.7191e-01, -5.7686e-01,\n",
            "         2.1224e-01, -6.8605e-02,  6.9485e-01, -9.5510e-01, -2.9000e-01,\n",
            "        -1.1167e-01,  3.6917e-01, -2.6269e-01,  4.0959e-01,  6.7818e-01,\n",
            "         2.0220e-01, -5.2386e-01, -5.7635e-01, -8.5326e-02,  3.7677e-01,\n",
            "         8.6124e-01, -3.8127e-01, -2.6030e-01,  1.6731e-01, -1.2073e-01,\n",
            "        -9.4081e-01, -1.6240e-01, -3.0607e-01, -9.9809e-01,  6.8891e-01,\n",
            "        -1.0000e+00, -3.0538e-01, -3.4521e-01, -2.9231e-01,  8.5779e-01,\n",
            "        -1.8807e-01,  1.0415e-01, -8.1538e-01, -4.7742e-02,  7.9210e-01,\n",
            "         7.9546e-01, -3.3711e-01,  3.6194e-02, -7.6387e-01,  2.0188e-01,\n",
            "        -9.9344e-02,  2.3722e-01, -1.4826e-01,  8.1689e-01, -1.3568e-01,\n",
            "         1.0000e+00,  1.0788e-01, -6.2229e-01, -9.8287e-01,  3.6340e-01,\n",
            "        -2.8392e-01,  9.9999e-01, -9.4122e-01, -9.6274e-01,  3.5232e-01,\n",
            "        -6.4217e-01, -8.6355e-01,  2.5824e-01, -7.3855e-03, -7.2942e-01,\n",
            "        -7.1274e-01,  9.6210e-01,  9.2554e-01, -4.1314e-01,  2.6824e-01,\n",
            "        -2.9241e-01, -5.4823e-01,  1.3801e-01, -4.0295e-02,  9.9278e-01,\n",
            "        -1.9940e-02,  9.2055e-01,  8.6697e-01,  1.1692e-01,  9.6494e-01,\n",
            "         2.4804e-01,  6.8506e-01,  2.1330e-01,  1.0000e+00,  3.9711e-01,\n",
            "        -9.5687e-01,  1.8935e-01, -9.8534e-01, -2.5436e-01, -9.6974e-01,\n",
            "         1.5999e-01,  1.3849e-01,  9.0158e-01, -3.4631e-01,  9.6986e-01,\n",
            "         5.6196e-02,  2.9808e-02, -2.3761e-01,  2.7612e-01,  3.2219e-01,\n",
            "        -9.1628e-01, -9.9098e-01, -9.9170e-01,  3.8555e-01, -4.6448e-01,\n",
            "        -7.8596e-02,  2.5101e-01,  1.8156e-01,  4.0458e-01,  4.1599e-01,\n",
            "        -1.0000e+00,  9.5639e-01,  4.0045e-01,  2.4999e-01,  9.7101e-01,\n",
            "         2.6541e-01,  3.1144e-01,  3.5171e-01, -9.9221e-01, -9.8144e-01,\n",
            "        -3.2112e-01, -1.9261e-01,  8.3681e-01,  6.8359e-01,  8.9443e-01,\n",
            "         4.2066e-01, -5.5579e-01, -1.9413e-02,  8.1810e-02,  2.5252e-01,\n",
            "        -9.9600e-01,  4.5876e-01,  1.0107e-01, -9.7920e-01,  9.7056e-01,\n",
            "        -3.6876e-01, -3.1563e-01,  5.4708e-01,  9.7286e-02,  9.6029e-01,\n",
            "         8.0310e-01,  5.6663e-01,  5.9747e-02,  5.4289e-01,  9.3752e-01,\n",
            "         9.7305e-01,  9.9314e-01, -4.2782e-01,  8.1597e-01,  6.7271e-02,\n",
            "         3.4181e-01,  5.3120e-01, -9.5607e-01,  2.1298e-01,  1.6058e-01,\n",
            "        -3.6086e-01,  2.2774e-01, -3.2248e-01, -9.7338e-01,  6.0391e-01,\n",
            "        -3.0920e-01,  6.0600e-01, -4.1743e-01,  5.9850e-03, -4.8984e-01,\n",
            "        -3.5430e-01, -7.9595e-01, -6.3807e-01,  5.9381e-01,  5.8845e-01,\n",
            "         9.3979e-01,  1.3675e-01, -9.2893e-02, -8.1779e-01, -2.2391e-01,\n",
            "         1.2670e-02, -9.5407e-01,  9.3282e-01, -1.1940e-01,  2.6331e-01,\n",
            "         1.2764e-01,  2.9225e-03,  5.2331e-01, -3.4510e-01, -3.7244e-01,\n",
            "        -3.4107e-01, -8.1349e-01,  8.4312e-01,  5.0378e-02, -5.7149e-01,\n",
            "        -6.4593e-01,  6.6932e-01,  2.5338e-01,  9.9537e-01, -3.5207e-02,\n",
            "        -3.3336e-01,  1.1103e-02, -1.4072e-01,  2.8260e-01, -3.9957e-01,\n",
            "        -1.0000e+00,  3.4962e-01,  2.0827e-01,  1.1709e-01, -2.9592e-01,\n",
            "         7.9865e-02, -4.6404e-02, -9.8589e-01, -2.2234e-01,  8.5685e-02,\n",
            "         1.7285e-01, -5.1989e-01, -4.8712e-01,  5.3660e-01,  3.4453e-01,\n",
            "         6.1563e-01,  9.0410e-01, -3.3538e-02,  4.7640e-01,  6.3788e-01,\n",
            "         2.5213e-01, -6.4773e-01,  9.4645e-01]), tensor([-8.2977e-01, -2.4476e-01,  4.5803e-01,  6.6532e-01, -3.2458e-01,\n",
            "        -1.7228e-01,  9.0401e-01,  2.3087e-01,  2.3309e-01, -9.9975e-01,\n",
            "         1.5106e-01,  1.8157e-01,  9.6551e-01, -2.0243e-01,  9.0092e-01,\n",
            "        -5.0830e-01, -1.5502e-01, -5.2923e-01,  4.1067e-01, -7.8522e-01,\n",
            "         5.0948e-01,  8.5708e-01,  5.7242e-01,  2.6867e-01,  4.1688e-01,\n",
            "         1.7607e-01, -5.1812e-01,  8.7635e-01,  9.3115e-01,  6.8082e-01,\n",
            "        -6.9876e-01,  2.5856e-01, -9.6888e-01, -2.2651e-01,  3.7857e-01,\n",
            "        -9.6930e-01,  1.9062e-01, -7.3374e-01, -1.1288e-01, -1.1736e-01,\n",
            "        -8.4972e-01,  3.5952e-01,  9.9365e-01, -3.4812e-03,  5.2994e-02,\n",
            "        -3.6896e-01, -9.9970e-01,  2.9555e-01, -8.1963e-01, -2.6834e-01,\n",
            "        -2.6415e-01, -4.7369e-01,  1.7351e-01,  3.7459e-01,  3.9645e-01,\n",
            "         3.3907e-01,  6.9494e-03,  1.9953e-01, -1.0348e-01, -5.2671e-01,\n",
            "        -5.6806e-01,  2.8122e-01,  1.2819e-01, -8.5700e-01, -2.7294e-01,\n",
            "        -5.2240e-01, -1.9258e-01, -2.9894e-01, -3.4525e-02,  2.1081e-02,\n",
            "         8.0774e-01,  2.0682e-01,  3.3237e-01, -7.1129e-01, -4.1941e-01,\n",
            "         1.7767e-01, -3.4377e-01,  1.0000e+00, -4.4725e-01, -9.5157e-01,\n",
            "        -4.3668e-01, -2.2836e-01,  2.7330e-01,  5.7468e-01, -4.5316e-01,\n",
            "        -9.9997e-01,  3.2541e-01, -1.3731e-01, -9.7608e-01,  2.2456e-01,\n",
            "         2.8020e-01, -2.3703e-01, -6.1131e-01,  2.5267e-01, -1.4158e-01,\n",
            "        -1.5594e-01, -3.0021e-01,  3.9562e-01, -2.4307e-01, -3.3038e-02,\n",
            "         1.0450e-01, -2.4945e-01, -9.1818e-03, -2.6839e-01,  1.7710e-01,\n",
            "        -3.8766e-01, -5.1839e-01,  1.4027e-01, -2.3709e-01,  6.2303e-01,\n",
            "         1.9440e-01, -2.5621e-01,  2.7263e-01, -9.3207e-01,  6.0219e-01,\n",
            "        -2.1128e-01, -9.6094e-01, -3.3350e-01, -9.6919e-01,  6.5678e-01,\n",
            "        -5.2830e-02, -2.0837e-01,  9.3485e-01,  5.7048e-01,  2.1507e-01,\n",
            "        -7.4421e-02,  3.1084e-01, -1.0000e+00, -3.0357e-01, -3.2126e-02,\n",
            "         2.3162e-01, -9.9474e-02, -9.5133e-01, -8.9025e-01,  5.1518e-01,\n",
            "         9.2510e-01,  1.5085e-01,  9.8937e-01, -3.1069e-01,  8.7288e-01,\n",
            "         8.1417e-02, -2.1872e-01, -2.4328e-01, -4.0320e-01,  2.6458e-01,\n",
            "         4.9929e-01, -6.9317e-01,  2.2626e-01,  3.3019e-02, -2.2336e-02,\n",
            "        -6.2659e-02, -2.6474e-01,  3.3012e-01, -8.8044e-01, -4.0959e-01,\n",
            "         8.9595e-01,  2.4310e-01,  4.0384e-01,  6.3826e-01, -2.0282e-01,\n",
            "        -3.5495e-01,  7.9407e-01,  2.8266e-01,  2.9538e-01, -5.4049e-02,\n",
            "         4.2631e-01, -8.8432e-02,  4.2084e-01, -8.2232e-01,  1.0785e-01,\n",
            "         3.5516e-01, -1.9069e-01,  4.7391e-01, -9.4865e-01, -3.0490e-01,\n",
            "         3.8645e-01,  9.7117e-01,  7.3698e-01,  1.9312e-01, -2.1113e-03,\n",
            "        -2.4279e-01,  2.9633e-01, -8.9461e-01,  9.3280e-01, -2.1704e-01,\n",
            "         2.3873e-01,  5.3438e-01, -2.8925e-01, -7.9944e-01, -3.8404e-01,\n",
            "         8.1528e-01, -4.0420e-02, -7.9902e-01, -1.5770e-02, -4.2070e-01,\n",
            "        -4.4152e-01,  2.3478e-01,  5.4125e-01, -2.8086e-01, -4.0596e-01,\n",
            "        -2.8364e-02,  8.5806e-01,  9.5645e-01,  7.3753e-01, -5.2072e-01,\n",
            "         4.6975e-01, -8.6971e-01, -4.0415e-01,  1.8190e-01,  2.6986e-01,\n",
            "         1.8721e-01,  9.8408e-01,  1.3875e-01, -1.6713e-01, -8.6812e-01,\n",
            "        -9.6927e-01,  1.0257e-01, -8.5898e-01, -3.7537e-03, -6.4758e-01,\n",
            "         2.6655e-01,  6.7047e-01, -1.1004e-01,  3.8836e-01, -9.7883e-01,\n",
            "        -7.3705e-01,  3.6182e-01, -2.4468e-01,  3.4647e-01, -2.3942e-01,\n",
            "        -2.2608e-02, -2.5609e-01, -4.7755e-01,  7.7744e-01,  7.9756e-01,\n",
            "         5.8002e-01, -6.0066e-01,  8.3428e-01, -2.6233e-01,  8.5015e-01,\n",
            "        -5.7055e-01,  9.5484e-01, -1.0215e-01,  3.9273e-01, -8.7801e-01,\n",
            "         4.8460e-01, -8.9583e-01,  1.2054e-01, -1.4522e-01, -6.0820e-01,\n",
            "        -2.4914e-01,  3.1016e-01,  2.6532e-01,  7.1392e-01, -4.6806e-01,\n",
            "         9.9510e-01,  1.0552e-01, -9.0208e-01,  5.9200e-01, -9.1797e-02,\n",
            "        -9.6747e-01, -2.1686e-01,  2.3909e-01, -5.7979e-01, -3.2111e-01,\n",
            "        -3.8017e-01, -8.9959e-01,  8.7419e-01,  1.7284e-01,  9.8401e-01,\n",
            "         2.3680e-01, -9.1022e-01, -2.7626e-01, -8.2188e-01, -1.2574e-01,\n",
            "        -1.0589e-01,  5.9469e-01, -6.1320e-02, -9.2449e-01,  4.2050e-01,\n",
            "         4.4233e-01,  3.4833e-01,  6.4709e-01,  9.9314e-01,  9.9648e-01,\n",
            "         9.4978e-01,  8.3126e-01,  8.6283e-01, -6.7948e-01,  2.6099e-01,\n",
            "         9.9984e-01, -3.0393e-01, -9.9991e-01, -9.0382e-01, -5.9470e-01,\n",
            "         4.2618e-01, -1.0000e+00, -8.4503e-02, -4.2244e-02, -8.6654e-01,\n",
            "        -3.7967e-01,  9.5183e-01,  9.8364e-01, -9.9999e-01,  7.8921e-01,\n",
            "         9.0056e-01, -4.1961e-01,  8.2208e-02, -1.2597e-01,  9.5140e-01,\n",
            "         2.9018e-01,  3.2560e-01, -1.9412e-01,  2.4573e-01,  1.2067e-01,\n",
            "        -8.2431e-01,  3.6829e-01,  4.5283e-01,  2.1795e-01,  1.8655e-01,\n",
            "        -6.8521e-01, -8.9018e-01, -2.7367e-01, -1.4275e-01, -1.9986e-01,\n",
            "        -9.0811e-01, -1.7045e-01, -2.2695e-01,  5.5160e-01,  8.9258e-02,\n",
            "         1.8633e-01, -7.1771e-01,  2.3482e-01, -6.6745e-01,  3.8821e-01,\n",
            "         4.1347e-01, -8.9785e-01, -6.3442e-01, -2.1273e-01, -4.3013e-01,\n",
            "         3.5635e-01, -8.9786e-01,  9.4976e-01, -3.0479e-01, -5.1592e-03,\n",
            "         1.0000e+00, -2.6967e-01, -8.4054e-01,  2.4735e-01,  1.4581e-01,\n",
            "        -5.6452e-02,  9.9999e-01,  3.2802e-01, -9.5877e-01, -3.1264e-01,\n",
            "         1.1654e-01, -3.2665e-01, -3.6088e-01,  9.9525e-01, -1.8040e-01,\n",
            "         3.6552e-01,  4.4535e-01,  9.3452e-01, -9.7397e-01, -8.8598e-02,\n",
            "        -8.8334e-01, -9.2437e-01,  9.1945e-01,  8.7748e-01, -5.3444e-02,\n",
            "        -5.1970e-01,  7.9846e-02,  4.2076e-02,  2.0963e-01, -9.4144e-01,\n",
            "         5.9258e-01,  4.9773e-01, -1.5465e-01,  8.6090e-01, -8.5622e-01,\n",
            "        -3.0633e-01,  4.1221e-01,  8.4292e-02,  2.8115e-01, -2.9093e-01,\n",
            "         4.5432e-01, -2.8506e-01,  1.5590e-01, -2.7008e-01,  2.4967e-01,\n",
            "        -9.3977e-01, -5.6203e-02,  9.9998e-01,  9.7657e-02, -4.8130e-01,\n",
            "        -1.8254e-01, -1.0690e-01, -1.9120e-01,  2.3824e-01,  3.1735e-01,\n",
            "        -3.2654e-01, -7.8258e-01, -1.9910e-01, -9.0083e-01, -9.6099e-01,\n",
            "         7.2429e-01,  1.9210e-01, -3.3673e-01,  9.9754e-01,  2.3808e-01,\n",
            "         1.4437e-01, -1.9219e-01,  1.4892e-02,  8.2595e-02,  5.4857e-01,\n",
            "        -5.5949e-01,  9.4095e-01, -2.6329e-01,  2.5291e-01,  8.1649e-01,\n",
            "         2.8760e-01, -3.1323e-01, -6.2238e-01,  7.5226e-02, -8.5573e-01,\n",
            "        -1.1472e-01, -9.0728e-01,  9.2469e-01, -3.5824e-01,  2.7884e-01,\n",
            "         1.5116e-01, -9.0816e-02,  9.9999e-01,  5.0537e-01,  5.9676e-01,\n",
            "        -6.9939e-01,  8.4584e-01, -5.2444e-01, -6.6840e-01, -2.9654e-01,\n",
            "        -5.8154e-02,  4.6173e-01, -2.0400e-01,  2.4770e-01, -9.5075e-01,\n",
            "        -3.4090e-01, -1.8605e-01, -9.7156e-01, -9.7763e-01,  4.9810e-01,\n",
            "         7.4649e-01,  9.6787e-02, -1.4624e-01, -6.6278e-01, -5.3603e-01,\n",
            "         2.6791e-01, -2.0846e-01, -8.6963e-01,  5.4759e-01, -2.2575e-01,\n",
            "         4.2060e-01, -2.2835e-01,  3.4782e-01, -5.0469e-01,  7.0670e-01,\n",
            "         6.3559e-01,  2.0386e-01, -1.4697e-01, -7.9497e-01,  7.5211e-01,\n",
            "        -7.8339e-01,  2.8446e-01, -1.7029e-01,  1.0000e+00, -2.8089e-01,\n",
            "        -3.2559e-01,  6.9331e-01,  6.6058e-01, -8.9609e-02,  1.6855e-01,\n",
            "        -3.9385e-01,  1.8126e-01,  3.9229e-01,  4.8080e-01, -8.6287e-01,\n",
            "        -2.7776e-01,  5.0346e-01, -6.2091e-01, -4.1324e-01,  7.1966e-01,\n",
            "        -9.6488e-02,  1.4216e-01, -5.3938e-02,  1.4620e-01,  9.9806e-01,\n",
            "        -2.8431e-01, -1.1750e-01, -4.6804e-01, -3.9829e-02, -2.9212e-01,\n",
            "        -6.8602e-01,  9.9991e-01,  3.4952e-01, -1.3833e-01, -9.7499e-01,\n",
            "         2.7452e-01, -9.0112e-01,  9.8925e-01,  6.8067e-01, -8.0721e-01,\n",
            "         4.3006e-01,  3.7258e-01, -1.6835e-01,  7.3950e-01, -2.4942e-01,\n",
            "        -2.6456e-01,  1.2223e-01,  1.9233e-01,  9.1876e-01, -3.9638e-01,\n",
            "        -9.2285e-01, -5.3609e-01,  3.4051e-01, -9.1291e-01,  7.2465e-01,\n",
            "        -5.0010e-01, -1.4540e-01, -2.4456e-01,  3.5891e-01,  8.7647e-01,\n",
            "         2.2472e-02, -9.4979e-01, -2.1638e-01,  2.7296e-02,  9.3855e-01,\n",
            "         1.9962e-01, -2.9889e-01, -8.7252e-01, -3.7267e-01, -2.3646e-01,\n",
            "         5.1097e-01, -8.8093e-01,  9.3605e-01, -9.6593e-01,  3.5836e-01,\n",
            "         9.9993e-01,  2.8297e-01, -5.6910e-01,  2.0496e-01, -4.2267e-01,\n",
            "         2.0516e-01,  2.3058e-01,  5.0487e-01, -8.9370e-01, -2.6635e-01,\n",
            "        -2.0031e-01,  2.8353e-01, -2.4468e-01,  3.0051e-01,  5.4403e-01,\n",
            "         1.8758e-01, -2.6324e-01, -5.1911e-01, -1.6119e-01,  3.4916e-01,\n",
            "         6.8905e-01, -2.9959e-01, -1.4029e-01,  1.5814e-01, -1.7502e-01,\n",
            "        -8.6834e-01, -2.0641e-01, -2.3722e-01, -9.3289e-01,  6.0668e-01,\n",
            "        -1.0000e+00, -3.5847e-01, -5.2475e-01, -1.9241e-01,  7.4867e-01,\n",
            "        -2.0672e-01, -2.2685e-01, -6.4221e-01,  4.2223e-01,  7.6677e-01,\n",
            "         6.9269e-01, -2.3279e-01, -6.5270e-02, -6.5913e-01,  1.9883e-01,\n",
            "        -1.2252e-01,  2.0430e-01,  7.6723e-02,  6.6004e-01, -1.4384e-01,\n",
            "         1.0000e+00,  7.8996e-02, -4.3230e-01, -9.5820e-01,  2.7954e-01,\n",
            "        -2.4363e-01,  9.9822e-01, -8.9891e-01, -8.9149e-01,  1.9584e-01,\n",
            "        -4.2320e-01, -7.5637e-01,  1.7700e-01,  1.8241e-02, -5.4373e-01,\n",
            "         1.1871e-01,  9.3040e-01,  8.7850e-01, -2.3813e-01,  2.6509e-01,\n",
            "        -2.6255e-01, -3.4647e-01,  1.4198e-01, -4.8253e-01,  9.7136e-01,\n",
            "         1.5476e-01,  8.5722e-01,  6.8085e-01,  1.5568e-01,  9.1085e-01,\n",
            "         2.2963e-01,  6.9857e-01,  1.1039e-01,  9.9994e-01,  2.5004e-01,\n",
            "        -8.9745e-01,  3.3322e-01, -9.7485e-01, -2.1612e-01, -9.2911e-01,\n",
            "         2.3723e-01,  8.3517e-02,  7.8157e-01, -2.6206e-01,  9.3516e-01,\n",
            "         5.0318e-01,  1.4726e-01,  1.7651e-02,  5.2251e-01,  3.3962e-01,\n",
            "        -8.5718e-01, -9.6938e-01, -9.7225e-01,  2.6355e-01, -4.3249e-01,\n",
            "        -3.3506e-02,  2.9897e-01,  2.1729e-01,  3.3180e-01,  3.2131e-01,\n",
            "        -9.9987e-01,  8.8407e-01,  4.1819e-01, -3.7569e-01,  9.2987e-01,\n",
            "         9.0516e-02,  1.8542e-01,  2.4374e-01, -9.6797e-01, -9.5468e-01,\n",
            "        -3.2518e-01, -2.7629e-01,  7.6932e-01,  5.4868e-01,  7.7366e-01,\n",
            "         3.6277e-01, -4.5555e-01, -4.3822e-02,  4.4156e-01,  2.2170e-01,\n",
            "        -9.8073e-01,  3.9307e-01,  2.3142e-01, -9.5916e-01,  9.2083e-01,\n",
            "        -5.2451e-01, -2.2469e-01,  6.3730e-01,  2.8204e-01,  9.3382e-01,\n",
            "         7.0263e-01,  5.3576e-01,  1.8474e-01,  4.9667e-01,  8.2456e-01,\n",
            "         9.3240e-01,  9.7622e-01,  2.6266e-01,  7.1217e-01,  3.0391e-01,\n",
            "         3.3701e-01,  8.1839e-02, -8.9766e-01,  1.0097e-01, -8.4725e-02,\n",
            "        -1.2152e-01,  2.8443e-01, -1.6146e-01, -9.5266e-01,  3.9046e-01,\n",
            "        -1.7561e-01,  4.5940e-01, -3.6128e-01,  6.2476e-02, -3.9400e-01,\n",
            "        -1.8975e-01, -7.0785e-01, -3.9888e-01,  3.9696e-01,  4.0352e-01,\n",
            "         8.8421e-01,  7.4181e-02, -1.4473e-01, -6.1354e-01, -1.5347e-01,\n",
            "         3.9206e-01, -8.6562e-01,  8.9738e-01, -3.8073e-02,  3.6257e-01,\n",
            "        -3.9154e-01,  6.6597e-03,  3.6123e-01, -2.8572e-01, -3.4106e-01,\n",
            "        -2.4011e-01, -7.0687e-01,  7.8625e-01,  7.5272e-02, -4.1136e-01,\n",
            "        -4.2659e-01,  6.0361e-01,  2.6887e-01,  8.9951e-01,  3.4312e-01,\n",
            "         2.6254e-01, -2.1677e-02, -1.7846e-01,  2.1978e-01, -2.3968e-01,\n",
            "        -9.9988e-01,  3.9964e-01,  3.0904e-01, -3.1124e-01,  5.8835e-02,\n",
            "        -5.0554e-01,  5.6047e-04, -9.6651e-01, -1.3549e-01, -2.9321e-01,\n",
            "        -3.7521e-01, -4.9042e-01, -4.5283e-01,  2.5890e-01,  3.0410e-01,\n",
            "        -1.3280e-01,  8.4483e-01,  8.5671e-02,  5.8213e-01,  3.7845e-01,\n",
            "         3.4786e-01, -6.0169e-01,  8.4967e-01]), tensor([-0.8476, -0.4288, -0.5957,  0.6489,  0.2651, -0.0527,  0.8672,  0.3050,\n",
            "        -0.3311, -0.9999, -0.3610,  0.8589,  0.9792,  0.1990,  0.8285, -0.6482,\n",
            "        -0.4276, -0.6024,  0.2877, -0.5668,  0.5883,  0.9993,  0.3036,  0.3675,\n",
            "         0.3893,  0.9442, -0.7315,  0.8142,  0.9338,  0.7539, -0.5235,  0.3081,\n",
            "        -0.9861, -0.0936, -0.6965, -0.9895,  0.2788, -0.7316,  0.1297,  0.0407,\n",
            "        -0.7786,  0.2967,  0.9997,  0.2933,  0.1453, -0.2687, -1.0000,  0.1633,\n",
            "        -0.8657,  0.7000,  0.5753,  0.6043,  0.0945,  0.4478,  0.4376, -0.1384,\n",
            "        -0.0014,  0.1354, -0.1295, -0.4838, -0.4886,  0.3616, -0.7103, -0.8777,\n",
            "         0.7131,  0.1384, -0.1944, -0.3604, -0.0152, -0.0950,  0.8503,  0.0343,\n",
            "         0.1906, -0.6346,  0.1290,  0.1410, -0.4453,  1.0000, -0.5651, -0.9640,\n",
            "         0.5200,  0.3409,  0.3066,  0.3531, -0.1257, -1.0000,  0.4441, -0.2871,\n",
            "        -0.9855,  0.1266,  0.6634, -0.0957, -0.0156,  0.4067, -0.3415, -0.2182,\n",
            "        -0.1057, -0.4779, -0.2310, -0.5043,  0.0093, -0.1156, -0.0588, -0.3253,\n",
            "         0.2670, -0.5048, -0.5390,  0.2948, -0.1738,  0.6746,  0.2262, -0.2203,\n",
            "         0.2606, -0.9372,  0.6008, -0.1539, -0.9838, -0.3767, -0.9869,  0.7749,\n",
            "        -0.4225, -0.3039,  0.9084, -0.0242,  0.2560,  0.0758, -0.6551, -1.0000,\n",
            "        -0.6454, -0.1998, -0.0048, -0.1183, -0.9798, -0.9244,  0.5499,  0.9083,\n",
            "         0.0085,  0.9990, -0.2819,  0.9197, -0.3138, -0.5350,  0.3044, -0.3911,\n",
            "         0.5179,  0.3010, -0.5957,  0.2886, -0.4915,  0.2399, -0.5587, -0.2760,\n",
            "        -0.3359, -0.8325, -0.3015,  0.9017, -0.1339, -0.6347,  0.4714, -0.2617,\n",
            "        -0.3914,  0.8051,  0.5373,  0.3514, -0.1913,  0.4723, -0.0039,  0.5688,\n",
            "        -0.8434, -0.1234,  0.3696, -0.2384, -0.4634, -0.9796, -0.4590,  0.4504,\n",
            "         0.9789,  0.7624,  0.2153,  0.6693, -0.1216,  0.7220, -0.9586,  0.9711,\n",
            "        -0.1574,  0.3210,  0.1604, -0.2305, -0.7634, -0.2943,  0.8457, -0.4491,\n",
            "        -0.7590,  0.0396, -0.4165, -0.2798, -0.4333,  0.6472, -0.2485, -0.3324,\n",
            "        -0.1254,  0.8373,  0.9573,  0.6612, -0.0326,  0.5995, -0.8972, -0.3438,\n",
            "         0.2745,  0.2508,  0.2692,  0.9910, -0.1440, -0.1477, -0.8242, -0.9834,\n",
            "         0.0143, -0.8510, -0.0942, -0.5684,  0.5019,  0.3158, -0.0236,  0.3083,\n",
            "        -0.9643, -0.6881,  0.4471, -0.4355,  0.4064, -0.1778,  0.2670,  0.6898,\n",
            "        -0.5948,  0.7194,  0.8618, -0.5459, -0.6371,  0.7032, -0.2513,  0.8084,\n",
            "        -0.6288,  0.9807,  0.7628,  0.5257, -0.9148, -0.2750, -0.9051, -0.4215,\n",
            "        -0.0202, -0.4769,  0.5406,  0.3224,  0.3905,  0.6231, -0.5840,  0.9934,\n",
            "        -0.3056, -0.9493,  0.3377, -0.4024, -0.9884,  0.7073,  0.3434, -0.0156,\n",
            "        -0.3954, -0.5314, -0.9264,  0.8189,  0.0367,  0.9797,  0.0559, -0.9206,\n",
            "        -0.5559, -0.9072, -0.1084, -0.1094,  0.1742, -0.0180, -0.9139,  0.4361,\n",
            "         0.4458,  0.4528, -0.1730,  0.9955,  1.0000,  0.9466,  0.8338,  0.8429,\n",
            "        -0.9962, -0.1585,  1.0000, -0.9476, -1.0000, -0.8960, -0.6424,  0.3055,\n",
            "        -1.0000, -0.0112, -0.0995, -0.8662,  0.1728,  0.9708,  0.9839, -1.0000,\n",
            "         0.7560,  0.8475, -0.5407,  0.8022, -0.0553,  0.9574,  0.2684,  0.4628,\n",
            "        -0.1149,  0.3539, -0.7135, -0.8350, -0.1830, -0.1483,  0.9761,  0.1799,\n",
            "        -0.7460, -0.8474,  0.0134, -0.0803, -0.2465, -0.9230, -0.0853,  0.2653,\n",
            "         0.5686,  0.2388,  0.1605, -0.5558,  0.2042, -0.4938,  0.2020,  0.4752,\n",
            "        -0.8775, -0.6230, -0.4371, -0.0862, -0.1728, -0.9226,  0.9344, -0.4625,\n",
            "         0.7680,  1.0000, -0.1411, -0.7928,  0.3418,  0.1528, -0.2658,  1.0000,\n",
            "         0.7262, -0.9815, -0.3658,  0.4947, -0.5141, -0.3745,  0.9984, -0.2547,\n",
            "        -0.3988, -0.0422,  0.9843, -0.9892,  0.9053, -0.8599, -0.9303,  0.9108,\n",
            "         0.8892, -0.3942, -0.5502,  0.0568, -0.0833,  0.2001, -0.9182,  0.7318,\n",
            "         0.4440, -0.1515,  0.8378, -0.8826, -0.3331,  0.3650, -0.3862, -0.0428,\n",
            "         0.6215,  0.4884, -0.2270,  0.0877, -0.1749,  0.1800, -0.9277,  0.1238,\n",
            "         1.0000, -0.3591,  0.2225, -0.3290, -0.0347, -0.1279,  0.3881,  0.4183,\n",
            "        -0.3077, -0.6213,  0.3938, -0.8973, -0.9873,  0.5447,  0.2697, -0.2472,\n",
            "         1.0000,  0.5384,  0.2441,  0.1102,  0.9532, -0.1169,  0.2825,  0.3724,\n",
            "         0.9581, -0.2343,  0.3965,  0.7901, -0.6223, -0.1804, -0.6204, -0.0326,\n",
            "        -0.8977, -0.0345, -0.9513,  0.9369,  0.8025,  0.1891,  0.2653,  0.6171,\n",
            "         1.0000, -0.0570,  0.4914, -0.7326,  0.7097, -0.9938, -0.5003, -0.3614,\n",
            "        -0.0018, -0.3807, -0.2063,  0.1466, -0.9689,  0.3023,  0.3769, -0.9348,\n",
            "        -0.9852,  0.1110,  0.8591,  0.0272, -0.9118, -0.6818, -0.4833,  0.6160,\n",
            "        -0.2840, -0.8998,  0.1517, -0.1586,  0.3758, -0.2263,  0.3676,  0.1791,\n",
            "         0.7976, -0.1309, -0.2009, -0.1401, -0.8715,  0.6466, -0.7525, -0.5193,\n",
            "        -0.1575,  1.0000, -0.3414,  0.5485,  0.4886,  0.5701, -0.2232,  0.1543,\n",
            "         0.6435,  0.1957, -0.2513, -0.5060, -0.7821, -0.2701,  0.6384,  0.2120,\n",
            "        -0.2266,  0.8042,  0.4014,  0.4048, -0.0937, -0.0198,  0.9982, -0.1847,\n",
            "        -0.1995, -0.5022, -0.0834, -0.3414, -0.4664,  1.0000,  0.3080,  0.2722,\n",
            "        -0.9898, -0.6076, -0.9252,  1.0000,  0.8121, -0.7071,  0.4917,  0.6587,\n",
            "        -0.2101,  0.7035, -0.2249, -0.1654,  0.2720, -0.0137,  0.9334, -0.4971,\n",
            "        -0.9466, -0.5280,  0.5008, -0.9018,  0.9978, -0.5726, -0.0974, -0.3607,\n",
            "        -0.0896,  0.7608,  0.0306, -0.9581, -0.1813,  0.1322,  0.9682,  0.1453,\n",
            "        -0.4153, -0.9190,  0.4790,  0.4800, -0.4513, -0.7976,  0.9633, -0.9343,\n",
            "         0.6122,  1.0000,  0.4627,  0.0676,  0.2900, -0.4878,  0.2390, -0.3600,\n",
            "         0.4409, -0.8458, -0.3691, -0.0989,  0.3785, -0.2206, -0.3377,  0.6277,\n",
            "         0.1048, -0.3425, -0.5679,  0.0466,  0.4962,  0.7522, -0.2286, -0.1345,\n",
            "         0.1679, -0.0618, -0.8224, -0.2737, -0.2579, -0.9997,  0.6608, -1.0000,\n",
            "         0.1381, -0.1259, -0.1764,  0.7351,  0.4703,  0.0597, -0.6669, -0.4140,\n",
            "         0.5087,  0.6819, -0.3779, -0.5194, -0.6121,  0.2148, -0.0202,  0.2848,\n",
            "        -0.3192,  0.5543, -0.2147,  1.0000,  0.1680, -0.5289, -0.9380,  0.2246,\n",
            "        -0.2000,  1.0000, -0.9028, -0.9526,  0.1990, -0.6650, -0.6523,  0.2929,\n",
            "         0.0229, -0.7437, -0.8429,  0.7502,  0.8536, -0.4509,  0.3732, -0.2224,\n",
            "        -0.5857,  0.0698,  0.5056,  0.9858,  0.1395,  0.9079,  0.4074,  0.0485,\n",
            "         0.9226,  0.2244,  0.4738,  0.2619,  1.0000,  0.2843, -0.9219, -0.0313,\n",
            "        -0.9659, -0.2956, -0.9018,  0.3154,  0.2618,  0.8361, -0.2166,  0.9381,\n",
            "        -0.4638,  0.0936, -0.4588, -0.0050,  0.2681, -0.9054, -0.9822, -0.9862,\n",
            "         0.5344, -0.4641,  0.1519,  0.2481,  0.2971,  0.3801,  0.3731, -1.0000,\n",
            "         0.9415,  0.4038,  0.4529,  0.9581,  0.2726,  0.4225,  0.3053, -0.9840,\n",
            "        -0.9319, -0.4723, -0.3493,  0.7192,  0.6373,  0.6905,  0.5266, -0.3369,\n",
            "        -0.0934,  0.1152, -0.4526, -0.9907,  0.5259, -0.3702, -0.9383,  0.9286,\n",
            "        -0.3809, -0.2634,  0.3539, -0.2071,  0.9505,  0.6454,  0.5637, -0.0243,\n",
            "         0.3928,  0.8492,  0.9415,  0.9838, -0.5270,  0.7147, -0.3228,  0.3142,\n",
            "         0.2417, -0.9103,  0.0504,  0.2025, -0.2670,  0.4001, -0.2054, -0.9274,\n",
            "         0.4226, -0.3218,  0.5727, -0.3503, -0.0012, -0.4269, -0.1654, -0.7111,\n",
            "        -0.6343,  0.4942,  0.3864,  0.9243,  0.3814, -0.0365, -0.7350, -0.2155,\n",
            "        -0.1508, -0.9010,  0.8793, -0.1551,  0.3784,  0.3690, -0.0224,  0.5025,\n",
            "        -0.0292, -0.4111, -0.3851, -0.7116,  0.7138, -0.3363, -0.4903, -0.5457,\n",
            "         0.6438,  0.3595,  0.9994, -0.4388, -0.6074, -0.3212, -0.3635,  0.2589,\n",
            "        -0.4653, -1.0000,  0.3262, -0.3360,  0.3407, -0.6527,  0.6391, -0.6101,\n",
            "        -0.9380, -0.1407,  0.2138,  0.3126, -0.5324, -0.8212,  0.4159,  0.0231,\n",
            "         0.8287,  0.8332, -0.4800,  0.2955,  0.4801, -0.2374, -0.5338,  0.8248])]\n"
          ],
          "name": "stdout"
        }
      ]
    },
    {
      "cell_type": "code",
      "metadata": {
        "id": "2h1GRBeUm6MY",
        "colab_type": "code",
        "outputId": "353bcc91-b506-4724-94c2-3808e47361d5",
        "colab": {
          "base_uri": "https://localhost:8080/",
          "height": 35
        }
      },
      "source": [
        "len(column_embeddings)"
      ],
      "execution_count": 0,
      "outputs": [
        {
          "output_type": "execute_result",
          "data": {
            "text/plain": [
              "2"
            ]
          },
          "metadata": {
            "tags": []
          },
          "execution_count": 16
        }
      ]
    },
    {
      "cell_type": "code",
      "metadata": {
        "id": "mI2dCj9gm1_U",
        "colab_type": "code",
        "outputId": "6bcb729a-dc31-4192-cbc0-fe33a561df86",
        "colab": {
          "base_uri": "https://localhost:8080/",
          "height": 35
        }
      },
      "source": [
        "len(column_embeddings[0]\n",
        "    )"
      ],
      "execution_count": 0,
      "outputs": [
        {
          "output_type": "execute_result",
          "data": {
            "text/plain": [
              "3"
            ]
          },
          "metadata": {
            "tags": []
          },
          "execution_count": 17
        }
      ]
    },
    {
      "cell_type": "code",
      "metadata": {
        "id": "G6wBP2J_m-8S",
        "colab_type": "code",
        "outputId": "95eba6ca-e2a9-44b4-b9e1-d28f201a3bb4",
        "colab": {
          "base_uri": "https://localhost:8080/",
          "height": 35
        }
      },
      "source": [
        "column_embeddings[0][0].shape"
      ],
      "execution_count": 0,
      "outputs": [
        {
          "output_type": "execute_result",
          "data": {
            "text/plain": [
              "torch.Size([768])"
            ]
          },
          "metadata": {
            "tags": []
          },
          "execution_count": 18
        }
      ]
    },
    {
      "cell_type": "code",
      "metadata": {
        "id": "E0vgpF0NnB3A",
        "colab_type": "code",
        "outputId": "48933937-e405-4659-9cb5-51b0befec709",
        "colab": {
          "base_uri": "https://localhost:8080/",
          "height": 35
        }
      },
      "source": [
        "print(column_embeddings[0][1].shape)"
      ],
      "execution_count": 0,
      "outputs": [
        {
          "output_type": "stream",
          "text": [
            "torch.Size([768])\n"
          ],
          "name": "stdout"
        }
      ]
    },
    {
      "cell_type": "code",
      "metadata": {
        "id": "3YdwLdsFpJjE",
        "colab_type": "code",
        "outputId": "e9774204-f618-47ad-8262-e3d2effa0294",
        "colab": {
          "base_uri": "https://localhost:8080/",
          "height": 35
        }
      },
      "source": [
        "max_col_length  = max(col_len)\n",
        "type(int(max_col_length))"
      ],
      "execution_count": 0,
      "outputs": [
        {
          "output_type": "execute_result",
          "data": {
            "text/plain": [
              "int"
            ]
          },
          "metadata": {
            "tags": []
          },
          "execution_count": 20
        }
      ]
    },
    {
      "cell_type": "code",
      "metadata": {
        "id": "RBkE6BHonHmn",
        "colab_type": "code",
        "colab": {}
      },
      "source": [
        "max_col_length  = int(max(col_len))\n",
        "\n",
        "column = torch.zeros((batch_size,max_col_length,768))\n",
        "\n",
        "for b in range(batch_size):\n",
        "  for l in range(int(col_len[b])):\n",
        "    column[b,l,:] = column_embeddings[b][l]\n",
        "\n"
      ],
      "execution_count": 0,
      "outputs": []
    },
    {
      "cell_type": "code",
      "metadata": {
        "id": "J87ewhMrpAzM",
        "colab_type": "code",
        "outputId": "dfd72e47-19b9-4727-f08a-fd80928696a5",
        "colab": {
          "base_uri": "https://localhost:8080/",
          "height": 1000
        }
      },
      "source": [
        "column[0][0]"
      ],
      "execution_count": 0,
      "outputs": [
        {
          "output_type": "execute_result",
          "data": {
            "text/plain": [
              "tensor([-9.1390e-01, -2.6067e-01, -1.6177e-01,  8.6036e-01, -2.3931e-01,\n",
              "        -9.2996e-02,  9.3982e-01,  1.4347e-01, -1.5215e-01, -9.9997e-01,\n",
              "        -2.3034e-01,  7.5573e-01,  9.8750e-01,  1.5271e-01,  9.4250e-01,\n",
              "        -6.4603e-01, -5.0243e-01, -4.9210e-01,  4.6132e-01, -8.5394e-01,\n",
              "         6.6645e-01,  9.9549e-01,  5.4160e-01,  2.4272e-01,  4.8839e-01,\n",
              "         9.0172e-01, -6.9724e-01,  9.5383e-01,  9.6663e-01,  7.4506e-01,\n",
              "        -8.0295e-01,  1.2239e-01, -9.9282e-01, -2.8215e-01, -3.9581e-01,\n",
              "        -9.9138e-01,  2.8494e-01, -8.3428e-01, -2.4879e-03,  8.8365e-02,\n",
              "        -9.2930e-01,  2.3227e-01,  9.9976e-01,  3.2397e-01,  1.9170e-01,\n",
              "        -3.5573e-01, -1.0000e+00,  2.1411e-01, -9.1079e-01,  4.2392e-01,\n",
              "         2.2255e-01, -1.2050e-01,  1.2537e-01,  4.1669e-01,  5.1614e-01,\n",
              "         3.8794e-01, -1.3235e-01,  1.2139e-01, -1.9305e-01, -6.1237e-01,\n",
              "        -6.4926e-01,  5.1568e-01, -4.3699e-01, -8.9856e-01,  2.2986e-01,\n",
              "         5.7683e-02, -1.2858e-01, -2.1665e-01, -3.0067e-03, -3.0013e-02,\n",
              "         8.8903e-01,  1.7353e-01,  3.9710e-01, -8.5401e-01, -7.0622e-02,\n",
              "         1.3592e-01, -6.3356e-01,  1.0000e+00, -7.3553e-01, -9.8486e-01,\n",
              "         6.4309e-02,  2.3608e-02,  5.0760e-01,  4.4446e-01, -1.9753e-01,\n",
              "        -1.0000e+00,  4.1613e-01, -1.3460e-01, -9.9369e-01,  1.8495e-01,\n",
              "         4.3955e-01, -2.1635e-01, -2.7909e-01,  5.1549e-01, -2.8032e-01,\n",
              "        -3.0567e-01, -3.7716e-01, -5.0788e-02, -3.3997e-01, -1.8002e-01,\n",
              "         4.5179e-02, -2.1611e-01, -1.7677e-01, -3.9114e-01,  2.6852e-01,\n",
              "        -3.3284e-01, -5.7183e-01,  3.3736e-01, -3.0814e-01,  6.6662e-01,\n",
              "         3.1384e-01, -3.3640e-01,  4.4514e-01, -9.6864e-01,  6.7026e-01,\n",
              "        -2.3540e-01, -9.8851e-01, -5.8585e-01, -9.9278e-01,  7.7809e-01,\n",
              "        -1.9607e-01, -1.2054e-01,  9.6254e-01,  2.1802e-01,  3.0254e-01,\n",
              "        -1.0221e-01, -2.2579e-01, -1.0000e+00, -5.6585e-01, -4.3215e-01,\n",
              "         2.8227e-01, -2.2149e-01, -9.8411e-01, -9.6824e-01,  6.4342e-01,\n",
              "         9.5840e-01,  1.6815e-01,  9.9921e-01, -3.7371e-01,  9.4916e-01,\n",
              "         1.3178e-01, -2.6970e-01, -1.7751e-01, -5.0569e-01,  5.7843e-01,\n",
              "         6.1053e-01, -8.4440e-01,  2.1963e-01, -5.8145e-02, -6.5855e-02,\n",
              "        -2.5684e-01, -1.8511e-01, -1.4930e-01, -9.5324e-01, -4.6345e-01,\n",
              "         9.6625e-01,  1.5195e-01, -2.5052e-01,  5.7412e-01, -3.0975e-01,\n",
              "        -4.8087e-01,  8.7050e-01,  5.5751e-01,  3.7739e-01,  6.4386e-04,\n",
              "         4.9703e-01, -8.1887e-02,  5.5358e-01, -8.8028e-01,  3.6204e-01,\n",
              "         4.5942e-01, -2.9689e-01, -2.3134e-01, -9.8438e-01, -4.0225e-01,\n",
              "         5.4735e-01,  9.9421e-01,  7.6713e-01,  2.9688e-01,  2.6851e-01,\n",
              "        -3.3689e-01,  4.1232e-01, -9.6189e-01,  9.8462e-01, -3.2865e-01,\n",
              "         2.7517e-01,  5.9949e-01, -1.7051e-01, -9.0644e-01, -2.9992e-01,\n",
              "         8.6165e-01, -2.5771e-01, -8.7194e-01, -3.7409e-02, -6.0552e-01,\n",
              "        -3.5580e-01,  7.8617e-02,  6.3117e-01, -1.8072e-01, -3.7173e-01,\n",
              "        -2.2268e-01,  9.2865e-01,  9.8002e-01,  8.3724e-01, -2.1685e-01,\n",
              "         6.5590e-01, -9.2629e-01, -6.0775e-01,  1.3482e-01,  3.0223e-01,\n",
              "         2.1827e-01,  9.9517e-01, -4.1080e-02, -1.6324e-01, -9.4107e-01,\n",
              "        -9.9029e-01,  3.9503e-02, -9.2215e-01, -1.4980e-01, -7.7975e-01,\n",
              "         4.2148e-01,  7.8283e-01, -8.8813e-02,  4.9242e-01, -9.9062e-01,\n",
              "        -8.3784e-01,  3.6537e-01, -4.0284e-01,  4.1671e-01, -2.3889e-01,\n",
              "         4.8833e-01,  4.5248e-01, -6.9615e-01,  8.5696e-01,  9.2561e-01,\n",
              "         2.9102e-01, -7.8631e-01,  8.9580e-01, -4.1032e-01,  9.0095e-01,\n",
              "        -6.3445e-01,  9.8365e-01,  6.3393e-01,  7.6440e-01, -9.5600e-01,\n",
              "        -3.6306e-04, -9.1721e-01, -5.8458e-02, -1.9363e-01, -4.9183e-01,\n",
              "         2.2891e-01,  5.9701e-01,  3.5218e-01,  7.1058e-01, -6.0863e-01,\n",
              "         9.9805e-01, -2.2570e-01, -9.7248e-01,  5.3667e-01, -2.1605e-01,\n",
              "        -9.9304e-01,  3.1327e-01,  2.8024e-01, -6.0312e-01, -3.9533e-01,\n",
              "        -4.3244e-01, -9.6531e-01,  9.3736e-01,  1.8710e-01,  9.9177e-01,\n",
              "         2.4251e-01, -9.7123e-01, -2.8367e-01, -9.4794e-01, -1.4637e-01,\n",
              "        -2.1650e-01,  3.5056e-01, -1.9551e-01, -9.4946e-01,  5.0040e-01,\n",
              "         5.6150e-01,  4.4916e-01,  9.0720e-02,  9.9815e-01,  9.9996e-01,\n",
              "         9.8135e-01,  9.0716e-01,  9.0923e-01, -9.8537e-01,  4.4025e-01,\n",
              "         9.9998e-01, -8.9214e-01, -1.0000e+00, -9.4680e-01, -6.6203e-01,\n",
              "         5.2938e-01, -1.0000e+00, -2.9952e-02, -4.8505e-02, -9.5084e-01,\n",
              "        -1.3680e-02,  9.8594e-01,  9.9374e-01, -1.0000e+00,  8.6812e-01,\n",
              "         9.5602e-01, -6.2196e-01,  7.1577e-01, -8.9649e-02,  9.7987e-01,\n",
              "         4.0023e-01,  1.0931e-01, -2.0666e-01,  2.7693e-01, -4.0853e-01,\n",
              "        -9.0292e-01,  7.6211e-02,  1.8538e-01,  8.0792e-01,  2.1770e-01,\n",
              "        -7.3577e-01, -9.4237e-01, -1.6615e-01, -1.2189e-01, -1.5162e-01,\n",
              "        -9.6961e-01, -1.5110e-01, -2.7428e-01,  7.4590e-01,  5.0944e-02,\n",
              "         3.2292e-01, -7.8990e-01,  2.6298e-01, -3.5224e-01,  5.4326e-01,\n",
              "         6.1445e-01, -9.3304e-01, -7.8193e-01, -5.7859e-01, -4.7970e-01,\n",
              "         9.7700e-02, -9.6211e-01,  9.8098e-01, -3.0732e-01,  2.4486e-01,\n",
              "         1.0000e+00, -4.4699e-01, -8.9884e-01,  3.0913e-01,  2.6054e-01,\n",
              "        -3.8518e-01,  1.0000e+00,  7.2044e-01, -9.8840e-01, -5.4420e-01,\n",
              "         2.2046e-02, -4.1161e-01, -5.2015e-01,  9.9928e-01, -2.1657e-01,\n",
              "         9.8066e-02,  3.9617e-01,  9.8674e-01, -9.9439e-01,  7.6486e-01,\n",
              "        -9.3379e-01, -9.7374e-01,  9.6009e-01,  9.5007e-01, -3.1249e-01,\n",
              "        -6.7719e-01,  1.6123e-01, -2.7170e-01,  3.1523e-01, -9.6588e-01,\n",
              "         7.5891e-01,  5.7004e-01, -2.2765e-01,  9.1870e-01, -9.2187e-01,\n",
              "        -5.7710e-01,  3.4097e-01, -9.7416e-02,  4.2768e-01,  3.2304e-01,\n",
              "         5.6972e-01, -3.2618e-01,  1.0562e-01, -2.6631e-01, -5.1833e-02,\n",
              "        -9.7746e-01,  2.3771e-01,  1.0000e+00,  2.2514e-01, -1.7109e-01,\n",
              "        -2.0968e-01, -2.2234e-02, -2.9392e-01,  3.2107e-01,  5.1218e-01,\n",
              "        -2.0410e-01, -8.1707e-01,  9.9527e-02, -9.6130e-01, -9.9200e-01,\n",
              "         8.4154e-01,  1.6336e-01, -3.8659e-01,  9.9996e-01,  3.3719e-01,\n",
              "         2.2538e-01, -1.9946e-01,  7.2878e-01,  4.5498e-02,  5.9101e-01,\n",
              "        -6.1946e-02,  9.8231e-01, -2.8864e-01,  5.2640e-01,  8.8101e-01,\n",
              "        -2.8122e-01, -3.7502e-01, -6.5319e-01,  7.5721e-02, -9.4423e-01,\n",
              "        -2.1907e-01, -9.6708e-01,  9.7159e-01,  3.6593e-01,  3.5985e-01,\n",
              "         2.5547e-01,  6.2482e-02,  1.0000e+00,  4.1758e-01,  7.1190e-01,\n",
              "        -7.2563e-01,  9.2048e-01, -9.6895e-01, -8.4090e-01, -4.0868e-01,\n",
              "        -5.5723e-02, -9.8501e-02, -3.3675e-01,  3.6378e-01, -9.8004e-01,\n",
              "         2.3917e-01, -1.4548e-01, -9.9042e-01, -9.9300e-01,  2.3333e-01,\n",
              "         8.0708e-01,  3.1455e-02, -7.0681e-01, -7.5453e-01, -5.6496e-01,\n",
              "         1.1427e-01, -3.6006e-01, -9.4014e-01,  4.2815e-01, -2.9779e-01,\n",
              "         5.0952e-01, -1.9786e-01,  5.8650e-01, -1.4194e-02,  7.9892e-01,\n",
              "         4.0043e-01,  2.3597e-01, -2.7719e-02, -8.6997e-01,  8.9278e-01,\n",
              "        -8.7850e-01, -1.9276e-01, -2.2968e-01,  1.0000e+00, -2.9109e-01,\n",
              "         4.9373e-01,  7.5779e-01,  7.4854e-01, -1.1555e-01,  2.1033e-01,\n",
              "         3.7517e-01,  2.5046e-01, -1.7501e-02,  9.2778e-02, -8.5878e-01,\n",
              "        -3.3906e-01,  6.9656e-01, -2.8570e-01, -1.2848e-01,  8.6944e-01,\n",
              "         1.8509e-01,  1.7812e-01,  2.1566e-02,  1.1861e-01,  9.9945e-01,\n",
              "        -3.1084e-01, -1.6232e-01, -6.7002e-01, -1.0381e-01, -2.7280e-01,\n",
              "        -7.7422e-01,  1.0000e+00,  4.7680e-01, -1.7433e-01, -9.9371e-01,\n",
              "        -4.5656e-02, -9.2761e-01,  9.9985e-01,  8.7845e-01, -8.1482e-01,\n",
              "         5.8268e-01,  4.2685e-01, -1.7502e-01,  8.2998e-01, -2.7317e-01,\n",
              "        -2.4511e-01,  1.1345e-01,  1.3545e-01,  9.6504e-01, -5.4955e-01,\n",
              "        -9.8127e-01, -6.5542e-01,  3.4000e-01, -9.6530e-01,  9.7990e-01,\n",
              "        -5.9218e-01, -1.9661e-01, -2.6728e-01,  5.0927e-01,  8.6915e-01,\n",
              "        -1.1212e-01, -9.8547e-01, -1.6792e-01,  1.6225e-01,  9.8243e-01,\n",
              "         1.9618e-01, -5.8285e-01, -9.3470e-01,  2.6112e-02,  3.8161e-01,\n",
              "         9.0627e-03, -9.3497e-01,  9.7591e-01, -9.8744e-01,  4.5025e-01,\n",
              "         1.0000e+00,  3.2768e-01, -5.3426e-01,  2.7191e-01, -5.7686e-01,\n",
              "         2.1224e-01, -6.8605e-02,  6.9485e-01, -9.5510e-01, -2.9000e-01,\n",
              "        -1.1167e-01,  3.6917e-01, -2.6269e-01,  4.0959e-01,  6.7818e-01,\n",
              "         2.0220e-01, -5.2386e-01, -5.7635e-01, -8.5326e-02,  3.7677e-01,\n",
              "         8.6124e-01, -3.8127e-01, -2.6030e-01,  1.6731e-01, -1.2073e-01,\n",
              "        -9.4081e-01, -1.6240e-01, -3.0607e-01, -9.9809e-01,  6.8891e-01,\n",
              "        -1.0000e+00, -3.0538e-01, -3.4521e-01, -2.9231e-01,  8.5779e-01,\n",
              "        -1.8807e-01,  1.0415e-01, -8.1538e-01, -4.7742e-02,  7.9210e-01,\n",
              "         7.9546e-01, -3.3711e-01,  3.6194e-02, -7.6387e-01,  2.0188e-01,\n",
              "        -9.9344e-02,  2.3722e-01, -1.4826e-01,  8.1689e-01, -1.3568e-01,\n",
              "         1.0000e+00,  1.0788e-01, -6.2229e-01, -9.8287e-01,  3.6340e-01,\n",
              "        -2.8392e-01,  9.9999e-01, -9.4122e-01, -9.6274e-01,  3.5232e-01,\n",
              "        -6.4217e-01, -8.6355e-01,  2.5824e-01, -7.3855e-03, -7.2942e-01,\n",
              "        -7.1274e-01,  9.6210e-01,  9.2554e-01, -4.1314e-01,  2.6824e-01,\n",
              "        -2.9241e-01, -5.4823e-01,  1.3801e-01, -4.0295e-02,  9.9278e-01,\n",
              "        -1.9940e-02,  9.2055e-01,  8.6697e-01,  1.1692e-01,  9.6494e-01,\n",
              "         2.4804e-01,  6.8506e-01,  2.1330e-01,  1.0000e+00,  3.9711e-01,\n",
              "        -9.5687e-01,  1.8935e-01, -9.8534e-01, -2.5436e-01, -9.6974e-01,\n",
              "         1.5999e-01,  1.3849e-01,  9.0158e-01, -3.4631e-01,  9.6986e-01,\n",
              "         5.6196e-02,  2.9808e-02, -2.3761e-01,  2.7612e-01,  3.2219e-01,\n",
              "        -9.1628e-01, -9.9098e-01, -9.9170e-01,  3.8555e-01, -4.6448e-01,\n",
              "        -7.8596e-02,  2.5101e-01,  1.8156e-01,  4.0458e-01,  4.1599e-01,\n",
              "        -1.0000e+00,  9.5639e-01,  4.0045e-01,  2.4999e-01,  9.7101e-01,\n",
              "         2.6541e-01,  3.1144e-01,  3.5171e-01, -9.9221e-01, -9.8144e-01,\n",
              "        -3.2112e-01, -1.9261e-01,  8.3681e-01,  6.8359e-01,  8.9443e-01,\n",
              "         4.2066e-01, -5.5579e-01, -1.9413e-02,  8.1810e-02,  2.5252e-01,\n",
              "        -9.9600e-01,  4.5876e-01,  1.0107e-01, -9.7920e-01,  9.7056e-01,\n",
              "        -3.6876e-01, -3.1563e-01,  5.4708e-01,  9.7286e-02,  9.6029e-01,\n",
              "         8.0310e-01,  5.6663e-01,  5.9747e-02,  5.4289e-01,  9.3752e-01,\n",
              "         9.7305e-01,  9.9314e-01, -4.2782e-01,  8.1597e-01,  6.7271e-02,\n",
              "         3.4181e-01,  5.3120e-01, -9.5607e-01,  2.1298e-01,  1.6058e-01,\n",
              "        -3.6086e-01,  2.2774e-01, -3.2248e-01, -9.7338e-01,  6.0391e-01,\n",
              "        -3.0920e-01,  6.0600e-01, -4.1743e-01,  5.9850e-03, -4.8984e-01,\n",
              "        -3.5430e-01, -7.9595e-01, -6.3807e-01,  5.9381e-01,  5.8845e-01,\n",
              "         9.3979e-01,  1.3675e-01, -9.2893e-02, -8.1779e-01, -2.2391e-01,\n",
              "         1.2670e-02, -9.5407e-01,  9.3282e-01, -1.1940e-01,  2.6331e-01,\n",
              "         1.2764e-01,  2.9225e-03,  5.2331e-01, -3.4510e-01, -3.7244e-01,\n",
              "        -3.4107e-01, -8.1349e-01,  8.4312e-01,  5.0378e-02, -5.7149e-01,\n",
              "        -6.4593e-01,  6.6932e-01,  2.5338e-01,  9.9537e-01, -3.5207e-02,\n",
              "        -3.3336e-01,  1.1103e-02, -1.4072e-01,  2.8260e-01, -3.9957e-01,\n",
              "        -1.0000e+00,  3.4962e-01,  2.0827e-01,  1.1709e-01, -2.9592e-01,\n",
              "         7.9865e-02, -4.6404e-02, -9.8589e-01, -2.2234e-01,  8.5685e-02,\n",
              "         1.7285e-01, -5.1989e-01, -4.8712e-01,  5.3660e-01,  3.4453e-01,\n",
              "         6.1563e-01,  9.0410e-01, -3.3538e-02,  4.7640e-01,  6.3788e-01,\n",
              "         2.5213e-01, -6.4773e-01,  9.4645e-01])"
            ]
          },
          "metadata": {
            "tags": []
          },
          "execution_count": 25
        }
      ]
    },
    {
      "cell_type": "code",
      "metadata": {
        "id": "FtsDTOPNMKT3",
        "colab_type": "code",
        "outputId": "46942c0a-89ca-47fa-fe68-a212710ea438",
        "colab": {
          "base_uri": "https://localhost:8080/",
          "height": 53
        }
      },
      "source": [
        "# outputs , column\n",
        "\n",
        "# WHERE no of conditions maximum_length  max_col_length\n",
        "\n",
        "import torch\n",
        "import torch.nn as nn \n",
        "import torch.nn.functional as F\n",
        "\n",
        "one_output_fc = nn.Linear(768,1)\n",
        "less_dimension_1 = nn.Linear(768,100)\n",
        "less_dimension_2 = nn.Linear(768,100)\n",
        "\n",
        "col_att_val = one_output_fc(column).squeeze()\n",
        "\n",
        "for b in range(batch_size):\n",
        "  if col_len[b] < max_col_length:\n",
        "    col_att_val[b,col_len[b]:] =  -10000\n",
        "\n",
        "\n",
        "\n",
        "col_att = F.softmax(col_att_val,dim=1)\n",
        "\n",
        "\n",
        "\n",
        "context = (column * col_att.unsqueeze(2).expand_as(column)).sum(1)\n",
        "\n",
        "h = less_dimension_1(context).unsqueeze(0)\n",
        "h = h.contiguous()  # Need to detach and reshape\n",
        "c = less_dimension_2(context).unsqueeze(0).contiguous()  # Need to detach and reshape  continguous\n",
        "\n",
        "lstm = nn.LSTM(768,100,batch_first=True)\n",
        "\n",
        "out, hidden = lstm(outputs[0],(h,c))\n",
        "\n",
        "one_output_fc_q = nn.Linear(100,1)\n",
        "\n",
        "\n",
        "q_att_val = one_output_fc_q(out).squeeze()\n",
        "\n",
        "for b in range(batch_size):\n",
        "  if q_len[b] < maximum_length:\n",
        "    q_att_val[b,q_len[b]:] = -10000\n",
        "\n",
        "q_att = F.softmax(q_att_val,dim=1)\n",
        "\n",
        "q_context = (outputs[0] * q_att.unsqueeze(2).expand_as(outputs[0])).sum(1)\n",
        "\n",
        "less_dimension_q_context = nn.Linear(768,100)\n",
        "no_condition_layer = nn.Linear(100,5)\n",
        "\n",
        "final_no_out = no_condition_layer(torch.tanh(less_dimension_q_context(q_context)))\n",
        "final_no_out  = F.softmax(final_no_out,dim=1)\n",
        "final_no_out\n",
        "\n",
        "\n"
      ],
      "execution_count": 0,
      "outputs": [
        {
          "output_type": "execute_result",
          "data": {
            "text/plain": [
              "tensor([[0.2036, 0.2043, 0.1866, 0.1933, 0.2122],\n",
              "        [0.2022, 0.1866, 0.1891, 0.2100, 0.2121]], grad_fn=<SoftmaxBackward>)"
            ]
          },
          "metadata": {
            "tags": []
          },
          "execution_count": 30
        }
      ]
    },
    {
      "cell_type": "code",
      "metadata": {
        "id": "3cBALP0bPXPo",
        "colab_type": "code",
        "outputId": "a54432ea-f5ff-4408-ed04-0f34aead9a07",
        "colab": {
          "base_uri": "https://localhost:8080/",
          "height": 35
        }
      },
      "source": [
        "q_context.shape"
      ],
      "execution_count": 0,
      "outputs": [
        {
          "output_type": "execute_result",
          "data": {
            "text/plain": [
              "torch.Size([2, 768])"
            ]
          },
          "metadata": {
            "tags": []
          },
          "execution_count": 31
        }
      ]
    },
    {
      "cell_type": "code",
      "metadata": {
        "id": "xGKHXPH1Pq2Q",
        "colab_type": "code",
        "outputId": "7038d983-5c74-414e-91b7-2051abb9388a",
        "colab": {
          "base_uri": "https://localhost:8080/",
          "height": 35
        }
      },
      "source": [
        "column.shape"
      ],
      "execution_count": 0,
      "outputs": [
        {
          "output_type": "execute_result",
          "data": {
            "text/plain": [
              "torch.Size([2, 3, 768])"
            ]
          },
          "metadata": {
            "tags": []
          },
          "execution_count": 32
        }
      ]
    },
    {
      "cell_type": "code",
      "metadata": {
        "id": "es6tm2u8gHQK",
        "colab_type": "code",
        "outputId": "5cb6a606-b126-409b-dbc2-3d895d808fcc",
        "colab": {
          "base_uri": "https://localhost:8080/",
          "height": 35
        }
      },
      "source": [
        "outputs[0].shape"
      ],
      "execution_count": 0,
      "outputs": [
        {
          "output_type": "execute_result",
          "data": {
            "text/plain": [
              "torch.Size([2, 9, 768])"
            ]
          },
          "metadata": {
            "tags": []
          },
          "execution_count": 33
        }
      ]
    },
    {
      "cell_type": "code",
      "metadata": {
        "id": "HRQZFpOhiTRr",
        "colab_type": "code",
        "outputId": "33a8b126-3915-4306-f98f-9ce51d5356eb",
        "colab": {
          "base_uri": "https://localhost:8080/",
          "height": 53
        }
      },
      "source": [
        "s_n_c = torch.matmul(column, outputs[0].transpose(2,1))\n",
        "\n",
        "for b in range(batch_size):\n",
        "  if q_len[b]< maximum_length:\n",
        "    s_n_c[b,:,q_len[b]:] = -10000\n",
        "\n",
        "p_n_c = F.softmax(s_n_c,dim=2)\n",
        "\n",
        "print(p_n_c.shape)\n",
        "print(outputs[0].shape)"
      ],
      "execution_count": 0,
      "outputs": [
        {
          "output_type": "stream",
          "text": [
            "torch.Size([2, 3, 9])\n",
            "torch.Size([2, 9, 768])\n"
          ],
          "name": "stdout"
        }
      ]
    },
    {
      "cell_type": "code",
      "metadata": {
        "id": "wpgsTq4rlV9E",
        "colab_type": "code",
        "outputId": "4dff51ab-70e4-4b37-fa45-f8c3f92aedee",
        "colab": {
          "base_uri": "https://localhost:8080/",
          "height": 35
        }
      },
      "source": [
        "p_n_c = p_n_c.unsqueeze(3)\n",
        "wenc_n = outputs[0].unsqueeze(1)\n",
        "c_n = torch.mul(wenc_n,p_n_c)\n",
        "c_n = c_n.sum(2)\n",
        "c_n.shape"
      ],
      "execution_count": 0,
      "outputs": [
        {
          "output_type": "execute_result",
          "data": {
            "text/plain": [
              "torch.Size([2, 3, 768])"
            ]
          },
          "metadata": {
            "tags": []
          },
          "execution_count": 42
        }
      ]
    },
    {
      "cell_type": "code",
      "metadata": {
        "id": "7v-TECLDn_C_",
        "colab_type": "code",
        "outputId": "08b970a2-843d-43a7-d4a2-4b44b80226b2",
        "colab": {
          "base_uri": "https://localhost:8080/",
          "height": 35
        }
      },
      "source": [
        "column.shape"
      ],
      "execution_count": 0,
      "outputs": [
        {
          "output_type": "execute_result",
          "data": {
            "text/plain": [
              "torch.Size([2, 3, 768])"
            ]
          },
          "metadata": {
            "tags": []
          },
          "execution_count": 43
        }
      ]
    },
    {
      "cell_type": "code",
      "metadata": {
        "id": "HbEHWT0CoTbB",
        "colab_type": "code",
        "colab": {}
      },
      "source": [
        "y = torch.cat([column,c_n] ,dim=2)   # must do another linear transform on each\n",
        "y = torch.tanh(y)\n",
        "\n",
        "# 2*768 = 1536"
      ],
      "execution_count": 0,
      "outputs": []
    },
    {
      "cell_type": "code",
      "metadata": {
        "id": "V3pNvDqrpyzi",
        "colab_type": "code",
        "outputId": "da000ef7-f156-4f11-8034-bbf9f2457b4a",
        "colab": {
          "base_uri": "https://localhost:8080/",
          "height": 35
        }
      },
      "source": [
        "y = nn.Linear(1536,1)(y).squeeze(2)\n",
        "y.shape"
      ],
      "execution_count": 0,
      "outputs": [
        {
          "output_type": "execute_result",
          "data": {
            "text/plain": [
              "torch.Size([2, 3])"
            ]
          },
          "metadata": {
            "tags": []
          },
          "execution_count": 47
        }
      ]
    },
    {
      "cell_type": "code",
      "metadata": {
        "id": "K8p-1gfLpzVq",
        "colab_type": "code",
        "colab": {}
      },
      "source": [
        "\n",
        "\n",
        "## WHERE OPerator\n",
        "\n"
      ],
      "execution_count": 0,
      "outputs": []
    }
  ]
}